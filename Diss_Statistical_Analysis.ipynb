{
  "nbformat": 4,
  "nbformat_minor": 0,
  "metadata": {
    "colab": {
      "provenance": [],
      "toc_visible": true
    },
    "kernelspec": {
      "name": "python3",
      "display_name": "Python 3"
    },
    "language_info": {
      "name": "python"
    }
  },
  "cells": [
    {
      "cell_type": "markdown",
      "source": [
        "# Intro Code"
      ],
      "metadata": {
        "id": "r4d3saqOxzC6"
      }
    },
    {
      "cell_type": "markdown",
      "source": [
        "Intro stuff"
      ],
      "metadata": {
        "id": "_ALoy1Y79A1r"
      }
    },
    {
      "cell_type": "code",
      "execution_count": null,
      "metadata": {
        "colab": {
          "base_uri": "https://localhost:8080/"
        },
        "id": "Tf_YIZDQ8i9H",
        "outputId": "497ff9de-17f3-40cf-9493-b6e0a67f966c"
      },
      "outputs": [
        {
          "output_type": "stream",
          "name": "stdout",
          "text": [
            "Mounted at /content/drive/\n"
          ]
        }
      ],
      "source": [
        "# Basic imports\n",
        "import pandas as pd\n",
        "import numpy as np\n",
        "from google.colab import drive\n",
        "drive.mount('/content/drive/')\n",
        "\n",
        "# Reading in book as whole string\n",
        "with open('/content/drive/My Drive/Colab Notebooks/Diss/JamesJoyce-Ulysses.txt') as f:\n",
        "    lines = f.read()\n",
        "\n",
        "# Finding start of the book\n",
        "start = lines[1005:]\n",
        "\n",
        "# Separating each chapter using split\n",
        "chapters = []\n",
        "\n",
        "# Starting at 2 as we are taking the string before each next chapter\n",
        "for i in range(2,19):\n",
        "\n",
        "  # Creating string that will be used to split\n",
        "  splitter = \"[ \" + str(i) + \" ]\"\n",
        "  a = start.split(sep=splitter)\n",
        "\n",
        "  # Each chapter is added to list\n",
        "  chapters.append(a[0])\n",
        "\n",
        "  # Remaining string is then put back through the loop for the next chapter\n",
        "  start = a[1]\n",
        "\n",
        "\n",
        "  # When at the penultimate chapter the remaining text is the last chapter\n",
        "  if i == 18:\n",
        "    chapters.append(a[1])\n",
        "\n",
        "# Replacing each chapters linebreaks with spaces\n",
        "for i in range(len(chapters)):\n",
        "  chapters[i] = chapters[i].replace(\"\\n\", \" \")"
      ]
    },
    {
      "cell_type": "markdown",
      "source": [
        "## sm Package"
      ],
      "metadata": {
        "id": "HUt7HsT_x465"
      }
    },
    {
      "cell_type": "markdown",
      "source": [
        "Basic Spacy NER detection"
      ],
      "metadata": {
        "id": "EMC1oyyv9D1i"
      }
    },
    {
      "cell_type": "code",
      "source": [
        "# Importing SpaCy and relevent packages\n",
        "import spacy\n",
        "from spacy import displacy\n",
        "\n",
        "# Loading NER\n",
        "NER = spacy.load(\"en_core_web_sm\")\n",
        "\n",
        "# Using chapter 3 as the text\n",
        "text = chapters[2]\n",
        "\n",
        "# Using NER on test\n",
        "test = NER(text)\n",
        "\n",
        "# Creating blank list for the entities\n",
        "fin =[]\n",
        "other = []\n",
        "# Looping the entities that are found and their label\n",
        "for ent in test.ents:\n",
        "\n",
        "  # Adding dublin, ireland to each text\n",
        "  address = ent\n",
        "  # Implementing truth statement to filter the entities we want\n",
        "  if ent.label_ == \"ORG\":\n",
        "    fin.append(address)\n",
        "  if ent.label_ == \"LOC\":\n",
        "    fin.append(address)\n",
        "  if ent.label_ == \"GPE\":\n",
        "    fin.append(address)\n",
        "  if ent.label_ == \"FAC\":\n",
        "    fin.append(address)\n",
        "  else:\n",
        "    other.append(address)\n",
        "\n",
        "\n"
      ],
      "metadata": {
        "id": "twmb8vNy8uZD"
      },
      "execution_count": null,
      "outputs": []
    },
    {
      "cell_type": "markdown",
      "source": [
        "The list of locations I manually found"
      ],
      "metadata": {
        "id": "N0EyPvHX9XxU"
      }
    },
    {
      "cell_type": "code",
      "source": [
        "chapter_3_list = ['Sandymount strand',\n",
        "'Sandymount',\n",
        "'Leahy’s terrace',\n",
        "'Bride Street',\n",
        "'Edenville',\n",
        "'Mananaan',\n",
        "'Strasburg terrace',\n",
        "'Clongowes gentry',\n",
        "'Marsh’s library',\n",
        "'Alexandria',\n",
        "'the Pigeonhouse',\n",
        "'Paris',\n",
        "'Egypt',\n",
        "'Europe',\n",
        "'Newhaven',\n",
        "'Irlande',\n",
        "'Barcelona',\n",
        "'Ireland',\n",
        "'Malahide',\n",
        "'Clerkenwell',\n",
        "'rue de la Goutte-d’Or',\n",
        "'rue Gît-le-Cœur',\n",
        "'France',\n",
        "'Strongbow’s castle',\n",
        "'the Nore',\n",
        "'Kilkenny',\n",
        "'Poolbeg road',\n",
        "'Lochlanns',\n",
        "'Maiden’s rock',\n",
        "'Clongowes',\n",
        "'Romeville',\n",
        "'O’Loughlin’s of Blackpitts',\n",
        "'Fumbally’s lane',\n",
        "'Cassiopeia',\n",
        "'Cloyne',\n",
        "'Leeson park'\n",
        "'Paris',\n",
        "'Dublin Bar']"
      ],
      "metadata": {
        "id": "XCZdo4Nq9bF-"
      },
      "execution_count": null,
      "outputs": []
    },
    {
      "cell_type": "code",
      "source": [
        "len(chapter_3_list)"
      ],
      "metadata": {
        "id": "_6EFjBpQAaQN",
        "colab": {
          "base_uri": "https://localhost:8080/"
        },
        "outputId": "37bffb2d-e0d6-49a1-da09-b26f53ab649c"
      },
      "execution_count": null,
      "outputs": [
        {
          "output_type": "execute_result",
          "data": {
            "text/plain": [
              "37"
            ]
          },
          "metadata": {},
          "execution_count": 4
        }
      ]
    },
    {
      "cell_type": "code",
      "source": [
        "# Checking if manually checked locationas are also found by NER\n",
        "found_ent=[]\n",
        "not_found_ent=[]\n",
        "for manual_string in chapter_3_list:\n",
        "  if manual_string not in str(fin):\n",
        "    not_found_ent.append(manual_string)\n",
        "  else:\n",
        "    found_ent.append(manual_string)\n",
        "\n",
        "print('The entities that the NER found are:', found_ent)\n",
        "print('The entities that the NER did not find are:', not_found_ent)"
      ],
      "metadata": {
        "id": "Ukao4RZ79fIX",
        "colab": {
          "base_uri": "https://localhost:8080/"
        },
        "outputId": "1d6e4e09-8b46-455f-f6f1-504bcc6b08c4"
      },
      "execution_count": null,
      "outputs": [
        {
          "output_type": "stream",
          "name": "stdout",
          "text": [
            "The entities that the NER found are: ['Sandymount', 'Bride Street', 'Edenville', 'Mananaan', 'Paris', 'Egypt', 'Europe', 'Barcelona', 'Ireland', 'Malahide', 'Clerkenwell', 'rue de la Goutte-d’Or', 'France', 'Lochlanns', 'Romeville', 'Cassiopeia', 'Cloyne']\n",
            "The entities that the NER did not find are: ['Sandymount strand', 'Leahy’s terrace', 'Strasburg terrace', 'Clongowes gentry', 'Marsh’s library', 'Alexandria', 'the Pigeonhouse', 'Newhaven', 'Irlande', 'rue Gît-le-Cœur', 'Strongbow’s castle', 'the Nore', 'Kilkenny', 'Poolbeg road', 'Maiden’s rock', 'Clongowes', 'O’Loughlin’s of Blackpitts', 'Fumbally’s lane', 'Leeson parkParis', 'Dublin Bar']\n"
          ]
        }
      ]
    },
    {
      "cell_type": "code",
      "source": [
        "# Checking if NER extracts more entities that are not locations\n",
        "false_found = []\n",
        "for ner_string in fin:\n",
        "  if str(ner_string) not in chapter_3_list:\n",
        "    false_found.append(ner_string)\n",
        "    print(ner_string, 'was not found')"
      ],
      "metadata": {
        "id": "-MPF_4Yr9hdQ",
        "colab": {
          "base_uri": "https://localhost:8080/"
        },
        "outputId": "12c56ffe-9166-4b95-a9eb-a4b1f97a9060"
      },
      "execution_count": null,
      "outputs": [
        {
          "output_type": "stream",
          "name": "stdout",
          "text": [
            "maestro di color was not found\n",
            "che was not found\n",
            "Los Demiurgos was not found\n",
            "Leahy was not found\n",
            "Patk MacCabe was not found\n",
            "navelcord was not found\n",
            "Spouse was not found\n",
            "Wombed was not found\n",
            "Arius was not found\n",
            "Airs was not found\n",
            "Sara’s was not found\n",
            "Strasburg was not found\n",
            "Stephen was not found\n",
            "Papa’s was not found\n",
            "Uncle Richie was not found\n",
            "backache was not found\n",
            "Ferrando was not found\n",
            "Marsh was not found\n",
            "Temple was not found\n",
            "Lanternjaws was not found\n",
            "Descende was not found\n",
            "the Blessed Virgin was not found\n",
            "Serpentine was not found\n",
            "Howth was not found\n",
            "Armada was not found\n",
            "Sara’s was not found\n",
            "Qui was not found\n",
            "MacMahon was not found\n",
            "Michelet was not found\n",
            "Moi was not found\n",
            "mon père was not found\n",
            "Proudly was not found\n",
            "Le Tutu was not found\n",
            "Pantalon Blanc et Culotte Rouge was not found\n",
            "Mulligan was not found\n",
            "Hannigan was not found\n",
            "Rodot was not found\n",
            "Hollandais was not found\n",
            "Dalcassians was not found\n",
            "Arthur Griffith was not found\n",
            "Drumont was not found\n",
            "Vieille was not found\n",
            "Upsala was not found\n",
            "Moi was not found\n",
            "orangeblossoms was not found\n",
            "Egan was not found\n",
            "Cœur was not found\n",
            "Strongbow was not found\n",
            "Kish was not found\n",
            "Louis Veuillot was not found\n",
            "Gautier’s was not found\n",
            "san Michele was not found\n",
            "House was not found\n",
            "Natürlich was not found\n",
            "Maiden’s was not found\n",
            "Cocklepickers was not found\n",
            "fancyman was not found\n",
            "Royal Dublins was not found\n",
            "Blackpitts was not found\n",
            "Monkwords was not found\n",
            "ponton was not found\n",
            "Bridebed was not found\n",
            "stereoscope was not found\n",
            "Hodges Figgis was not found\n",
            "Leeson was not found\n",
            "Pan’s was not found\n",
            "diebus ac noctibus iniurias patiens ingemiscit was not found\n",
            "Dublin was not found\n",
            "Prix de Paris was not found\n",
            "dico was not found\n",
            "qui was not found\n",
            "Monsieur Drumont was not found\n"
          ]
        }
      ]
    },
    {
      "cell_type": "markdown",
      "source": [
        "Checking if entities were filtered out incorrectly into other when they were found manually"
      ],
      "metadata": {
        "id": "P5Y2L6DvCm7z"
      }
    },
    {
      "cell_type": "code",
      "source": [
        "# Checking if NER filters out entities that are actually correct\n",
        "poss_error = []\n",
        "def_error = []\n",
        "for ner_string in other:\n",
        "  if str(ner_string) in chapter_3_list:\n",
        "    poss_error.append(ner_string)\n",
        "for ner_string in poss_error:\n",
        "  if ner_string not in fin:\n",
        "    def_error.append(ner_string)\n",
        "    print(ner_string, \"was found\")\n",
        "    print(ner_string.label_)"
      ],
      "metadata": {
        "id": "YhdpaLTYCkZk",
        "colab": {
          "base_uri": "https://localhost:8080/"
        },
        "outputId": "e0c0084f-12a8-436c-b7d2-dc84e3549d4b"
      },
      "execution_count": null,
      "outputs": [
        {
          "output_type": "stream",
          "name": "stdout",
          "text": [
            "Sandymount was found\n",
            "WORK_OF_ART\n",
            "Alexandria was found\n",
            "PERSON\n",
            "Newhaven was found\n",
            "PERSON\n",
            "Kilkenny was found\n",
            "PERSON\n",
            "Kilkenny was found\n",
            "PERSON\n"
          ]
        }
      ]
    },
    {
      "cell_type": "markdown",
      "source": [
        "Here we find some that were found that were misidentitified. Need to train the model"
      ],
      "metadata": {
        "id": "EUpoceqXGZDQ"
      }
    },
    {
      "cell_type": "markdown",
      "source": [
        "Finding statistical data on the accuracy."
      ],
      "metadata": {
        "id": "CJ4QmJHX9kG5"
      }
    },
    {
      "cell_type": "markdown",
      "source": [
        "TP - NER and manual found this entity\n",
        "\n",
        "FP - Only NER found this entity\n",
        "\n",
        "FN - Only manual found this entity or model misidentified it as wrong classifier.\n",
        "\n",
        "TN - All entities found by NER that did not fit in classifiers apart from the ones that were mislabelled- NEED TO ASK ABOUT THIS DEFINITION"
      ],
      "metadata": {
        "id": "28W1iT63CAZc"
      }
    },
    {
      "cell_type": "code",
      "source": [
        "sm_true_positive = len(found_ent)\n",
        "sm_true_negative = len(other) - len(def_error)\n",
        "sm_false_positive = len(false_found)\n",
        "sm_false_negative = len(not_found_ent) + len(def_error)\n"
      ],
      "metadata": {
        "id": "VZuz9t6t_XA8"
      },
      "execution_count": null,
      "outputs": []
    },
    {
      "cell_type": "markdown",
      "source": [
        "Creating defs for accuracy, precision, recall and f1"
      ],
      "metadata": {
        "id": "u2tZKZ1ULMw6"
      }
    },
    {
      "cell_type": "code",
      "source": [
        "def precision(TP, FP):\n",
        "  return TP / (TP + FP)\n",
        "def recall(TP, FN):\n",
        "  return TP / (TP + FN)\n",
        "def f1(p, r):\n",
        "  return (2 * p * r) / (p + r)\n",
        "def accuracy(TP, TN, FP, FN):\n",
        "  return (TP + TN) / (TP + FN + TN + FP)"
      ],
      "metadata": {
        "id": "5Ozx2BWHM_9Z"
      },
      "execution_count": null,
      "outputs": []
    },
    {
      "cell_type": "markdown",
      "source": [
        "### sm Summary"
      ],
      "metadata": {
        "id": "2UGMEF7AzXKB"
      }
    },
    {
      "cell_type": "code",
      "source": [
        "def cf_matrix(true_negative, false_positive, false_negative, true_positive):\n",
        "  return np.array([[ true_negative, false_positive],\n",
        "                   [false_negative, true_positive ]])\n"
      ],
      "metadata": {
        "id": "VY7yawlQAvxL"
      },
      "execution_count": null,
      "outputs": []
    },
    {
      "cell_type": "code",
      "source": [
        "import seaborn as sns\n",
        "sm_cf = sns.heatmap(cf_matrix(sm_true_negative, sm_false_positive,\n",
        "                              sm_false_negative, sm_true_positive),\n",
        "                    annot=True, fmt='g')\n",
        "sm_cf"
      ],
      "metadata": {
        "id": "VSQt2GBcH1S-",
        "colab": {
          "base_uri": "https://localhost:8080/",
          "height": 282
        },
        "outputId": "ccfb8364-16dc-4fb0-8e21-2fb90b6c1523"
      },
      "execution_count": null,
      "outputs": [
        {
          "output_type": "execute_result",
          "data": {
            "text/plain": [
              "<matplotlib.axes._subplots.AxesSubplot at 0x7faee9755750>"
            ]
          },
          "metadata": {},
          "execution_count": 11
        },
        {
          "output_type": "display_data",
          "data": {
            "text/plain": [
              "<Figure size 432x288 with 2 Axes>"
            ],
            "image/png": "[encoded data removed]"
          },
          "metadata": {
            "needs_background": "light"
          }
        }
      ]
    },
    {
      "cell_type": "code",
      "source": [
        "print(sm_true_positive)\n",
        "print(sm_true_negative)\n",
        "print(sm_false_positive)\n",
        "print(sm_false_negative)"
      ],
      "metadata": {
        "id": "gGk97WijJFQL",
        "colab": {
          "base_uri": "https://localhost:8080/"
        },
        "outputId": "7444ff3b-0044-4f55-a98a-0a76e6307c64"
      },
      "execution_count": null,
      "outputs": [
        {
          "output_type": "stream",
          "name": "stdout",
          "text": [
            "17\n",
            "255\n",
            "72\n",
            "25\n"
          ]
        }
      ]
    },
    {
      "cell_type": "code",
      "source": [
        "sm_f1 = f1(precision(sm_true_positive, sm_false_positive),\n",
        "                   recall(sm_true_positive, sm_false_negative))\n",
        "sm_r = recall(sm_true_positive, sm_false_negative)\n",
        "sm_p = precision(sm_true_positive, sm_false_positive)\n",
        "sm_a = accuracy(sm_true_positive, sm_true_negative, sm_false_positive,\n",
        "                sm_false_negative)\n",
        "print(\"Accuracy is \", sm_a)\n",
        "print(\"Precision is \", precision(sm_true_positive, sm_false_positive))\n",
        "print(\"Recall is \", recall(sm_true_positive, sm_false_negative))\n",
        "print(\"F1 is \", f1(precision(sm_true_positive, sm_false_positive),\n",
        "                   recall(sm_true_positive, sm_false_negative)))"
      ],
      "metadata": {
        "id": "dqMzmbPuOAw2",
        "colab": {
          "base_uri": "https://localhost:8080/"
        },
        "outputId": "e468e27e-b342-4213-f7f9-9c0472ec1ff6"
      },
      "execution_count": null,
      "outputs": [
        {
          "output_type": "stream",
          "name": "stdout",
          "text": [
            "Accuracy is  0.7371273712737128\n",
            "Precision is  0.19101123595505617\n",
            "Recall is  0.40476190476190477\n",
            "F1 is  0.2595419847328244\n"
          ]
        }
      ]
    },
    {
      "cell_type": "markdown",
      "source": [
        "## md Package"
      ],
      "metadata": {
        "id": "O99EYreczyZT"
      }
    },
    {
      "cell_type": "code",
      "source": [
        "import spacy.cli\n",
        "spacy.cli.download(\"en_core_web_md\")"
      ],
      "metadata": {
        "id": "OOdJs8Iz1GkQ",
        "colab": {
          "base_uri": "https://localhost:8080/"
        },
        "outputId": "9bbe81f4-40d0-42a8-b24f-68ea763fdbaa"
      },
      "execution_count": null,
      "outputs": [
        {
          "output_type": "stream",
          "name": "stdout",
          "text": [
            "\u001b[38;5;2m✔ Download and installation successful\u001b[0m\n",
            "You can now load the package via spacy.load('en_core_web_md')\n"
          ]
        }
      ]
    },
    {
      "cell_type": "code",
      "source": [
        "# Importing SpaCy and relevent packages\n",
        "import spacy\n",
        "from spacy import displacy\n",
        "\n",
        "# Loading NER\n",
        "NER = spacy.load(\"en_core_web_md\")\n",
        "\n",
        "# Using chapter 3 as the text\n",
        "text = chapters[2]\n",
        "\n",
        "# Using NER on test\n",
        "test = NER(text)\n",
        "\n",
        "# Creating blank list for the entities\n",
        "fin =[]\n",
        "other = []\n",
        "# Looping the entities that are found and their label\n",
        "for ent in test.ents:\n",
        "\n",
        "  # Adding dublin, ireland to each text\n",
        "  address = ent\n",
        "  # Implementing truth statement to filter the entities we want\n",
        "  if ent.label_ == \"ORG\":\n",
        "    fin.append(address)\n",
        "  if ent.label_ == \"LOC\":\n",
        "    fin.append(address)\n",
        "  if ent.label_ == \"GPE\":\n",
        "    fin.append(address)\n",
        "  if ent.label_ == \"FAC\":\n",
        "    fin.append(address)\n",
        "  else:\n",
        "    other.append(address)\n"
      ],
      "metadata": {
        "id": "AkeQbtEiy1hd"
      },
      "execution_count": null,
      "outputs": []
    },
    {
      "cell_type": "code",
      "source": [
        "# Checking if manually checked locationas are also found by NER\n",
        "found_ent=[]\n",
        "not_found_ent=[]\n",
        "for manual_string in chapter_3_list:\n",
        "  if manual_string not in str(fin):\n",
        "    not_found_ent.append(manual_string)\n",
        "  else:\n",
        "    found_ent.append(manual_string)\n",
        "\n",
        "# Checking if NER extracts more entities that are not locations\n",
        "false_found = []\n",
        "for ner_string in fin:\n",
        "  if str(ner_string) not in chapter_3_list:\n",
        "    false_found.append(ner_string)\n",
        "\n",
        "# Checking if NER filters out entities that are actually correct\n",
        "poss_error = []\n",
        "def_error = []\n",
        "for ner_string in other:\n",
        "  if str(ner_string) in chapter_3_list:\n",
        "    poss_error.append(ner_string)\n",
        "for ner_string in poss_error:\n",
        "  if ner_string not in fin:\n",
        "    def_error.append(ner_string)"
      ],
      "metadata": {
        "id": "abvo1Oro1mqF"
      },
      "execution_count": null,
      "outputs": []
    },
    {
      "cell_type": "code",
      "source": [
        "md_true_positive = len(found_ent)\n",
        "md_true_negative = len(other) - len(def_error)\n",
        "md_false_positive = len(false_found)\n",
        "md_false_negative = len(not_found_ent) + len(def_error)"
      ],
      "metadata": {
        "id": "B9whAVnE2EwQ"
      },
      "execution_count": null,
      "outputs": []
    },
    {
      "cell_type": "markdown",
      "source": [
        "### md Summary"
      ],
      "metadata": {
        "id": "iGiwAyMC2TCN"
      }
    },
    {
      "cell_type": "code",
      "source": [
        "md_cf = sns.heatmap(cf_matrix(md_true_negative, md_false_positive,\n",
        "                              md_false_negative, md_true_positive),\n",
        "                    annot=True, fmt='g')\n",
        "md_cf"
      ],
      "metadata": {
        "id": "YZz9hp3e2SSg",
        "colab": {
          "base_uri": "https://localhost:8080/",
          "height": 282
        },
        "outputId": "602f59ef-03c3-4591-b1f2-2fc50581aace"
      },
      "execution_count": null,
      "outputs": [
        {
          "output_type": "execute_result",
          "data": {
            "text/plain": [
              "<matplotlib.axes._subplots.AxesSubplot at 0x7faeea48f250>"
            ]
          },
          "metadata": {},
          "execution_count": 18
        },
        {
          "output_type": "display_data",
          "data": {
            "text/plain": [
              "<Figure size 432x288 with 2 Axes>"
            ],
            "image/png": "[encoded data removed]"
          },
          "metadata": {
            "needs_background": "light"
          }
        }
      ]
    },
    {
      "cell_type": "code",
      "source": [
        "print(md_true_positive)\n",
        "print(md_true_negative)\n",
        "print(md_false_positive)\n",
        "print(md_false_negative)"
      ],
      "metadata": {
        "id": "R5VluUC-2bPy",
        "colab": {
          "base_uri": "https://localhost:8080/"
        },
        "outputId": "33a55fe3-7caa-4566-f4e8-0c0f48a0b2be"
      },
      "execution_count": null,
      "outputs": [
        {
          "output_type": "stream",
          "name": "stdout",
          "text": [
            "20\n",
            "325\n",
            "87\n",
            "22\n"
          ]
        }
      ]
    },
    {
      "cell_type": "code",
      "source": [
        "md_f1 = f1(precision(md_true_positive, md_false_positive),\n",
        "                   recall(md_true_positive, md_false_negative))\n",
        "md_r = recall(md_true_positive, md_false_negative)\n",
        "md_p = precision(md_true_positive, md_false_positive)\n",
        "md_a = accuracy(md_true_positive, md_true_negative, md_false_positive,\n",
        "                md_false_negative)\n",
        "print(\"Accuracy is \", md_a)\n",
        "print(\"Precision is \", precision(md_true_positive, md_false_positive))\n",
        "print(\"Recall is \", recall(md_true_positive, md_false_negative))\n",
        "print(\"F1 is \", f1(precision(md_true_positive, md_false_positive),\n",
        "                   recall(md_true_positive, md_false_negative)))"
      ],
      "metadata": {
        "id": "6gUcpogC3ozs",
        "colab": {
          "base_uri": "https://localhost:8080/"
        },
        "outputId": "770d8589-aeea-4f40-bb69-2736000d66ab"
      },
      "execution_count": null,
      "outputs": [
        {
          "output_type": "stream",
          "name": "stdout",
          "text": [
            "Accuracy is  0.7599118942731278\n",
            "Precision is  0.18691588785046728\n",
            "Recall is  0.47619047619047616\n",
            "F1 is  0.2684563758389262\n"
          ]
        }
      ]
    },
    {
      "cell_type": "markdown",
      "source": [
        "## lg Package"
      ],
      "metadata": {
        "id": "J2UOfrCG37jg"
      }
    },
    {
      "cell_type": "code",
      "source": [
        "import spacy.cli\n",
        "spacy.cli.download(\"en_core_web_lg\")"
      ],
      "metadata": {
        "id": "OLpKUT6r4Axe",
        "colab": {
          "base_uri": "https://localhost:8080/"
        },
        "outputId": "197d400d-1cef-4193-d453-65a58e14e182"
      },
      "execution_count": null,
      "outputs": [
        {
          "output_type": "stream",
          "name": "stdout",
          "text": [
            "\u001b[38;5;2m✔ Download and installation successful\u001b[0m\n",
            "You can now load the package via spacy.load('en_core_web_lg')\n"
          ]
        }
      ]
    },
    {
      "cell_type": "code",
      "source": [
        "# Importing SpaCy and relevent packages\n",
        "import spacy\n",
        "from spacy import displacy\n",
        "\n",
        "# Loading NER\n",
        "NER = spacy.load(\"en_core_web_lg\")\n",
        "\n",
        "# Using chapter 3 as the text\n",
        "text = chapters[2]\n",
        "\n",
        "# Using NER on test\n",
        "test = NER(text)\n",
        "\n",
        "# Creating blank list for the entities\n",
        "fin =[]\n",
        "other = []\n",
        "# Looping the entities that are found and their label\n",
        "for ent in test.ents:\n",
        "\n",
        "  # Adding dublin, ireland to each text\n",
        "  address = ent\n",
        "  # Implementing truth statement to filter the entities we want\n",
        "  if ent.label_ == \"ORG\":\n",
        "    fin.append(address)\n",
        "  if ent.label_ == \"LOC\":\n",
        "    fin.append(address)\n",
        "  if ent.label_ == \"GPE\":\n",
        "    fin.append(address)\n",
        "  if ent.label_ == \"FAC\":\n",
        "    fin.append(address)\n",
        "  else:\n",
        "    other.append(address)\n"
      ],
      "metadata": {
        "id": "b5r9uZWq4CkI"
      },
      "execution_count": null,
      "outputs": []
    },
    {
      "cell_type": "code",
      "source": [
        "# Checking if manually checked locationas are also found by NER\n",
        "found_ent=[]\n",
        "not_found_ent=[]\n",
        "for manual_string in chapter_3_list:\n",
        "  if manual_string not in str(fin):\n",
        "    not_found_ent.append(manual_string)\n",
        "  else:\n",
        "    found_ent.append(manual_string)\n",
        "\n",
        "# Checking if NER extracts more entities that are not locations\n",
        "false_found = []\n",
        "for ner_string in fin:\n",
        "  if str(ner_string) not in chapter_3_list:\n",
        "    false_found.append(ner_string)\n",
        "\n",
        "# Checking if NER filters out entities that are actually correct\n",
        "poss_error = []\n",
        "def_error = []\n",
        "for ner_string in other:\n",
        "  if str(ner_string) in chapter_3_list:\n",
        "    poss_error.append(ner_string)\n",
        "for ner_string in poss_error:\n",
        "  if ner_string not in fin:\n",
        "    def_error.append(ner_string)"
      ],
      "metadata": {
        "id": "4AyMSAXh4FSj"
      },
      "execution_count": null,
      "outputs": []
    },
    {
      "cell_type": "code",
      "source": [
        "lg_true_positive = len(found_ent)\n",
        "lg_true_negative = len(other) - len(def_error)\n",
        "lg_false_positive = len(false_found)\n",
        "lg_false_negative = len(not_found_ent) + len(def_error)"
      ],
      "metadata": {
        "id": "zHuTlpxJ4MIO"
      },
      "execution_count": null,
      "outputs": []
    },
    {
      "cell_type": "markdown",
      "source": [
        "### lg Summary"
      ],
      "metadata": {
        "id": "2uoew96z4UJf"
      }
    },
    {
      "cell_type": "code",
      "source": [
        "lg_cf = sns.heatmap(cf_matrix(lg_true_negative, lg_false_positive,\n",
        "                              lg_false_negative, lg_true_positive),\n",
        "                    annot=True, fmt='g')\n",
        "lg_cf"
      ],
      "metadata": {
        "id": "Jtw_rFEH4TNV",
        "colab": {
          "base_uri": "https://localhost:8080/",
          "height": 282
        },
        "outputId": "b37a4698-a183-42a2-c7f8-3826467f097d"
      },
      "execution_count": null,
      "outputs": [
        {
          "output_type": "execute_result",
          "data": {
            "text/plain": [
              "<matplotlib.axes._subplots.AxesSubplot at 0x7faee37a5390>"
            ]
          },
          "metadata": {},
          "execution_count": 25
        },
        {
          "output_type": "display_data",
          "data": {
            "text/plain": [
              "<Figure size 432x288 with 2 Axes>"
            ],
            "image/png": "[encoded data removed]"
          },
          "metadata": {
            "needs_background": "light"
          }
        }
      ]
    },
    {
      "cell_type": "code",
      "source": [
        "print(lg_true_positive)\n",
        "print(lg_true_negative)\n",
        "print(lg_false_positive)\n",
        "print(lg_false_negative)"
      ],
      "metadata": {
        "id": "GYZCuqws4Yaj",
        "colab": {
          "base_uri": "https://localhost:8080/"
        },
        "outputId": "a6e4121a-09b5-4ef3-f948-12d166959ed8"
      },
      "execution_count": null,
      "outputs": [
        {
          "output_type": "stream",
          "name": "stdout",
          "text": [
            "23\n",
            "331\n",
            "76\n",
            "14\n"
          ]
        }
      ]
    },
    {
      "cell_type": "code",
      "source": [
        "lg_f1 = f1(precision(lg_true_positive, lg_false_positive),\n",
        "                   recall(lg_true_positive, lg_false_negative))\n",
        "lg_r = recall(lg_true_positive, lg_false_negative)\n",
        "lg_p = precision(lg_true_positive, lg_false_positive)\n",
        "lg_a = accuracy(lg_true_positive, lg_true_negative, lg_false_positive,\n",
        "                lg_false_negative)\n",
        "print(\"Accuracy is \", lg_a)\n",
        "print(\"Precision is \", precision(lg_true_positive, lg_false_positive))\n",
        "print(\"Recall is \", recall(lg_true_positive, lg_false_negative))\n",
        "print(\"F1 is \", f1(precision(lg_true_positive, lg_false_positive),\n",
        "                   recall(lg_true_positive, lg_false_negative)))"
      ],
      "metadata": {
        "id": "qxSO_4aw4f4s",
        "colab": {
          "base_uri": "https://localhost:8080/"
        },
        "outputId": "e960ff8b-25fb-4faa-8628-044d0d8459c4"
      },
      "execution_count": null,
      "outputs": [
        {
          "output_type": "stream",
          "name": "stdout",
          "text": [
            "Accuracy is  0.7972972972972973\n",
            "Precision is  0.23232323232323232\n",
            "Recall is  0.6216216216216216\n",
            "F1 is  0.338235294117647\n"
          ]
        }
      ]
    },
    {
      "cell_type": "markdown",
      "source": [
        "## trf Package"
      ],
      "metadata": {
        "id": "lAqcQwsS4wNc"
      }
    },
    {
      "cell_type": "code",
      "source": [
        "!pip install spacy-transformers"
      ],
      "metadata": {
        "id": "rmHYilqX6jpA",
        "colab": {
          "base_uri": "https://localhost:8080/"
        },
        "outputId": "48a81c58-4843-4aec-ecee-12b35f8b2531"
      },
      "execution_count": null,
      "outputs": [
        {
          "output_type": "stream",
          "name": "stdout",
          "text": [
            "Looking in indexes: https://pypi.org/simple, https://us-python.pkg.dev/colab-wheels/public/simple/\n",
            "Requirement already satisfied: spacy-transformers in /usr/local/lib/python3.7/dist-packages (1.1.8)\n",
            "Requirement already satisfied: spacy<4.0.0,>=3.4.0 in /usr/local/lib/python3.7/dist-packages (from spacy-transformers) (3.4.2)\n",
            "Requirement already satisfied: spacy-alignments<1.0.0,>=0.7.2 in /usr/local/lib/python3.7/dist-packages (from spacy-transformers) (0.8.6)\n",
            "Requirement already satisfied: srsly<3.0.0,>=2.4.0 in /usr/local/lib/python3.7/dist-packages (from spacy-transformers) (2.4.5)\n",
            "Requirement already satisfied: torch>=1.6.0 in /usr/local/lib/python3.7/dist-packages (from spacy-transformers) (1.12.1+cu113)\n",
            "Requirement already satisfied: transformers<4.22.0,>=3.4.0 in /usr/local/lib/python3.7/dist-packages (from spacy-transformers) (4.21.3)\n",
            "Requirement already satisfied: pydantic!=1.8,!=1.8.1,<1.11.0,>=1.7.4 in /usr/local/lib/python3.7/dist-packages (from spacy<4.0.0,>=3.4.0->spacy-transformers) (1.10.2)\n",
            "Requirement already satisfied: tqdm<5.0.0,>=4.38.0 in /usr/local/lib/python3.7/dist-packages (from spacy<4.0.0,>=3.4.0->spacy-transformers) (4.64.1)\n",
            "Requirement already satisfied: preshed<3.1.0,>=3.0.2 in /usr/local/lib/python3.7/dist-packages (from spacy<4.0.0,>=3.4.0->spacy-transformers) (3.0.8)\n",
            "Requirement already satisfied: typer<0.5.0,>=0.3.0 in /usr/local/lib/python3.7/dist-packages (from spacy<4.0.0,>=3.4.0->spacy-transformers) (0.4.2)\n",
            "Requirement already satisfied: typing-extensions<4.2.0,>=3.7.4 in /usr/local/lib/python3.7/dist-packages (from spacy<4.0.0,>=3.4.0->spacy-transformers) (4.1.1)\n",
            "Requirement already satisfied: cymem<2.1.0,>=2.0.2 in /usr/local/lib/python3.7/dist-packages (from spacy<4.0.0,>=3.4.0->spacy-transformers) (2.0.7)\n",
            "Requirement already satisfied: spacy-legacy<3.1.0,>=3.0.10 in /usr/local/lib/python3.7/dist-packages (from spacy<4.0.0,>=3.4.0->spacy-transformers) (3.0.10)\n",
            "Requirement already satisfied: thinc<8.2.0,>=8.1.0 in /usr/local/lib/python3.7/dist-packages (from spacy<4.0.0,>=3.4.0->spacy-transformers) (8.1.5)\n",
            "Requirement already satisfied: setuptools in /usr/local/lib/python3.7/dist-packages (from spacy<4.0.0,>=3.4.0->spacy-transformers) (57.4.0)\n",
            "Requirement already satisfied: jinja2 in /usr/local/lib/python3.7/dist-packages (from spacy<4.0.0,>=3.4.0->spacy-transformers) (2.11.3)\n",
            "Requirement already satisfied: murmurhash<1.1.0,>=0.28.0 in /usr/local/lib/python3.7/dist-packages (from spacy<4.0.0,>=3.4.0->spacy-transformers) (1.0.9)\n",
            "Requirement already satisfied: packaging>=20.0 in /usr/local/lib/python3.7/dist-packages (from spacy<4.0.0,>=3.4.0->spacy-transformers) (21.3)\n",
            "Requirement already satisfied: requests<3.0.0,>=2.13.0 in /usr/local/lib/python3.7/dist-packages (from spacy<4.0.0,>=3.4.0->spacy-transformers) (2.23.0)\n",
            "Requirement already satisfied: catalogue<2.1.0,>=2.0.6 in /usr/local/lib/python3.7/dist-packages (from spacy<4.0.0,>=3.4.0->spacy-transformers) (2.0.8)\n",
            "Requirement already satisfied: wasabi<1.1.0,>=0.9.1 in /usr/local/lib/python3.7/dist-packages (from spacy<4.0.0,>=3.4.0->spacy-transformers) (0.10.1)\n",
            "Requirement already satisfied: pathy>=0.3.5 in /usr/local/lib/python3.7/dist-packages (from spacy<4.0.0,>=3.4.0->spacy-transformers) (0.6.2)\n",
            "Requirement already satisfied: langcodes<4.0.0,>=3.2.0 in /usr/local/lib/python3.7/dist-packages (from spacy<4.0.0,>=3.4.0->spacy-transformers) (3.3.0)\n",
            "Requirement already satisfied: numpy>=1.15.0 in /usr/local/lib/python3.7/dist-packages (from spacy<4.0.0,>=3.4.0->spacy-transformers) (1.21.6)\n",
            "Requirement already satisfied: spacy-loggers<2.0.0,>=1.0.0 in /usr/local/lib/python3.7/dist-packages (from spacy<4.0.0,>=3.4.0->spacy-transformers) (1.0.3)\n",
            "Requirement already satisfied: zipp>=0.5 in /usr/local/lib/python3.7/dist-packages (from catalogue<2.1.0,>=2.0.6->spacy<4.0.0,>=3.4.0->spacy-transformers) (3.9.0)\n",
            "Requirement already satisfied: pyparsing!=3.0.5,>=2.0.2 in /usr/local/lib/python3.7/dist-packages (from packaging>=20.0->spacy<4.0.0,>=3.4.0->spacy-transformers) (3.0.9)\n",
            "Requirement already satisfied: smart-open<6.0.0,>=5.2.1 in /usr/local/lib/python3.7/dist-packages (from pathy>=0.3.5->spacy<4.0.0,>=3.4.0->spacy-transformers) (5.2.1)\n",
            "Requirement already satisfied: chardet<4,>=3.0.2 in /usr/local/lib/python3.7/dist-packages (from requests<3.0.0,>=2.13.0->spacy<4.0.0,>=3.4.0->spacy-transformers) (3.0.4)\n",
            "Requirement already satisfied: certifi>=2017.4.17 in /usr/local/lib/python3.7/dist-packages (from requests<3.0.0,>=2.13.0->spacy<4.0.0,>=3.4.0->spacy-transformers) (2022.9.24)\n",
            "Requirement already satisfied: urllib3!=1.25.0,!=1.25.1,<1.26,>=1.21.1 in /usr/local/lib/python3.7/dist-packages (from requests<3.0.0,>=2.13.0->spacy<4.0.0,>=3.4.0->spacy-transformers) (1.24.3)\n",
            "Requirement already satisfied: idna<3,>=2.5 in /usr/local/lib/python3.7/dist-packages (from requests<3.0.0,>=2.13.0->spacy<4.0.0,>=3.4.0->spacy-transformers) (2.10)\n",
            "Requirement already satisfied: blis<0.8.0,>=0.7.8 in /usr/local/lib/python3.7/dist-packages (from thinc<8.2.0,>=8.1.0->spacy<4.0.0,>=3.4.0->spacy-transformers) (0.7.9)\n",
            "Requirement already satisfied: confection<1.0.0,>=0.0.1 in /usr/local/lib/python3.7/dist-packages (from thinc<8.2.0,>=8.1.0->spacy<4.0.0,>=3.4.0->spacy-transformers) (0.0.3)\n",
            "Requirement already satisfied: regex!=2019.12.17 in /usr/local/lib/python3.7/dist-packages (from transformers<4.22.0,>=3.4.0->spacy-transformers) (2022.6.2)\n",
            "Requirement already satisfied: huggingface-hub<1.0,>=0.1.0 in /usr/local/lib/python3.7/dist-packages (from transformers<4.22.0,>=3.4.0->spacy-transformers) (0.10.1)\n",
            "Requirement already satisfied: tokenizers!=0.11.3,<0.13,>=0.11.1 in /usr/local/lib/python3.7/dist-packages (from transformers<4.22.0,>=3.4.0->spacy-transformers) (0.12.1)\n",
            "Requirement already satisfied: pyyaml>=5.1 in /usr/local/lib/python3.7/dist-packages (from transformers<4.22.0,>=3.4.0->spacy-transformers) (6.0)\n",
            "Requirement already satisfied: importlib-metadata in /usr/local/lib/python3.7/dist-packages (from transformers<4.22.0,>=3.4.0->spacy-transformers) (4.13.0)\n",
            "Requirement already satisfied: filelock in /usr/local/lib/python3.7/dist-packages (from transformers<4.22.0,>=3.4.0->spacy-transformers) (3.8.0)\n",
            "Requirement already satisfied: click<9.0.0,>=7.1.1 in /usr/local/lib/python3.7/dist-packages (from typer<0.5.0,>=0.3.0->spacy<4.0.0,>=3.4.0->spacy-transformers) (7.1.2)\n",
            "Requirement already satisfied: MarkupSafe>=0.23 in /usr/local/lib/python3.7/dist-packages (from jinja2->spacy<4.0.0,>=3.4.0->spacy-transformers) (2.0.1)\n"
          ]
        }
      ]
    },
    {
      "cell_type": "code",
      "source": [
        "import spacy.cli\n",
        "spacy.cli.download(\"en_core_web_trf\")"
      ],
      "metadata": {
        "id": "bQRXkOmD42bh",
        "colab": {
          "base_uri": "https://localhost:8080/"
        },
        "outputId": "2d89a12d-b135-4723-8efd-d5439899c87b"
      },
      "execution_count": null,
      "outputs": [
        {
          "output_type": "stream",
          "name": "stdout",
          "text": [
            "\u001b[38;5;2m✔ Download and installation successful\u001b[0m\n",
            "You can now load the package via spacy.load('en_core_web_trf')\n"
          ]
        }
      ]
    },
    {
      "cell_type": "code",
      "source": [
        "# Importing SpaCy and relevent packages\n",
        "import spacy\n",
        "from spacy import displacy\n",
        "\n",
        "# Loading NER\n",
        "NER = spacy.load(\"en_core_web_trf\")\n",
        "\n",
        "# Using chapter 3 as the text\n",
        "text = chapters[2]\n",
        "\n",
        "# Using NER on test\n",
        "test = NER(text)\n",
        "\n",
        "# Creating blank list for the entities\n",
        "fin =[]\n",
        "other = []\n",
        "# Looping the entities that are found and their label\n",
        "for ent in test.ents:\n",
        "\n",
        "  # Adding dublin, ireland to each text\n",
        "  address = ent\n",
        "  # Implementing truth statement to filter the entities we want\n",
        "  if ent.label_ == \"ORG\":\n",
        "    fin.append(address)\n",
        "  if ent.label_ == \"LOC\":\n",
        "    fin.append(address)\n",
        "  if ent.label_ == \"GPE\":\n",
        "    fin.append(address)\n",
        "  if ent.label_ == \"FAC\":\n",
        "    fin.append(address)\n",
        "  else:\n",
        "    other.append(address)"
      ],
      "metadata": {
        "id": "uZw9eMlZ5BBT",
        "colab": {
          "base_uri": "https://localhost:8080/"
        },
        "outputId": "b37fca06-2804-490e-9f15-4cef9a98ab95"
      },
      "execution_count": null,
      "outputs": [
        {
          "output_type": "stream",
          "name": "stderr",
          "text": [
            "/usr/local/lib/python3.7/dist-packages/torch/amp/autocast_mode.py:198: UserWarning: User provided device_type of 'cuda', but CUDA is not available. Disabling\n",
            "  warnings.warn('User provided device_type of \\'cuda\\', but CUDA is not available. Disabling')\n"
          ]
        }
      ]
    },
    {
      "cell_type": "code",
      "source": [
        "# Checking if manually checked locationas are also found by NER\n",
        "found_ent=[]\n",
        "not_found_ent=[]\n",
        "for manual_string in chapter_3_list:\n",
        "  if manual_string not in str(fin):\n",
        "    not_found_ent.append(manual_string)\n",
        "  else:\n",
        "    found_ent.append(manual_string)\n",
        "\n",
        "# Checking if NER extracts more entities that are not locations\n",
        "false_found = []\n",
        "for ner_string in fin:\n",
        "  if str(ner_string) not in chapter_3_list:\n",
        "    false_found.append(ner_string)\n",
        "\n",
        "# Checking if NER filters out entities that are actually correct\n",
        "poss_error = []\n",
        "def_error = []\n",
        "for ner_string in other:\n",
        "  if str(ner_string) in chapter_3_list:\n",
        "    poss_error.append(ner_string)\n",
        "for ner_string in poss_error:\n",
        "  if ner_string not in fin:\n",
        "    def_error.append(ner_string)"
      ],
      "metadata": {
        "id": "Oyl6fbWW5Eeg"
      },
      "execution_count": null,
      "outputs": []
    },
    {
      "cell_type": "code",
      "source": [
        "trf_true_positive = len(found_ent)\n",
        "trf_true_negative = len(other) - len(def_error)\n",
        "trf_false_positive = len(false_found)\n",
        "trf_false_negative = len(not_found_ent) + len(def_error)"
      ],
      "metadata": {
        "id": "cMDf4Q9W5Jd5"
      },
      "execution_count": null,
      "outputs": []
    },
    {
      "cell_type": "markdown",
      "source": [
        "### trf Summary"
      ],
      "metadata": {
        "id": "tf5FULAZ5ULT"
      }
    },
    {
      "cell_type": "code",
      "source": [
        "trf_cf = sns.heatmap(cf_matrix(trf_true_negative, trf_false_positive,\n",
        "                              trf_false_negative, trf_true_positive),\n",
        "                    annot=True, fmt='g')\n",
        "trf_cf"
      ],
      "metadata": {
        "id": "JE0xZY7I5Myr",
        "colab": {
          "base_uri": "https://localhost:8080/",
          "height": 282
        },
        "outputId": "18fabc3d-f625-4fa1-d405-a5ad6bb77e78"
      },
      "execution_count": null,
      "outputs": [
        {
          "output_type": "execute_result",
          "data": {
            "text/plain": [
              "<matplotlib.axes._subplots.AxesSubplot at 0x7faeea800a10>"
            ]
          },
          "metadata": {},
          "execution_count": 33
        },
        {
          "output_type": "display_data",
          "data": {
            "text/plain": [
              "<Figure size 432x288 with 2 Axes>"
            ],
            "image/png": "[encoded data removed]"
          },
          "metadata": {
            "needs_background": "light"
          }
        }
      ]
    },
    {
      "cell_type": "code",
      "source": [
        "print(trf_true_positive)\n",
        "print(trf_true_negative)\n",
        "print(trf_false_positive)\n",
        "print(trf_false_negative)"
      ],
      "metadata": {
        "id": "o_W74kVe5P29",
        "colab": {
          "base_uri": "https://localhost:8080/"
        },
        "outputId": "5b4a45ad-aad2-404b-9a61-e835e7969666"
      },
      "execution_count": null,
      "outputs": [
        {
          "output_type": "stream",
          "name": "stdout",
          "text": [
            "21\n",
            "231\n",
            "22\n",
            "18\n"
          ]
        }
      ]
    },
    {
      "cell_type": "code",
      "source": [
        "trf_f1 = f1(precision(trf_true_positive, trf_false_positive),\n",
        "                   recall(trf_true_positive, trf_false_negative))\n",
        "trf_r = recall(trf_true_positive, trf_false_negative)\n",
        "trf_p = precision(trf_true_positive, trf_false_positive)\n",
        "trf_a = accuracy(trf_true_positive, trf_true_negative, trf_false_positive,\n",
        "                trf_false_negative)\n",
        "print(\"Accuracy is \", trf_a)\n",
        "print(\"Precision is \", precision(trf_true_positive, trf_false_positive))\n",
        "print(\"Recall is \", recall(trf_true_positive, trf_false_negative))\n",
        "print(\"F1 is \", f1(precision(trf_true_positive, trf_false_positive),\n",
        "                   recall(trf_true_positive, trf_false_negative)))"
      ],
      "metadata": {
        "id": "ysS--sJx5SSB",
        "colab": {
          "base_uri": "https://localhost:8080/"
        },
        "outputId": "050d44af-02bf-42f0-e68a-5de4fdede3ba"
      },
      "execution_count": null,
      "outputs": [
        {
          "output_type": "stream",
          "name": "stdout",
          "text": [
            "Accuracy is  0.863013698630137\n",
            "Precision is  0.4883720930232558\n",
            "Recall is  0.5384615384615384\n",
            "F1 is  0.5121951219512196\n"
          ]
        }
      ]
    },
    {
      "cell_type": "markdown",
      "source": [
        "# Summary of all Models"
      ],
      "metadata": {
        "id": "1KIS4jlQ5tlT"
      }
    },
    {
      "cell_type": "code",
      "source": [
        "print( sm_f1, md_f1, lg_f1, trf_f1 )"
      ],
      "metadata": {
        "colab": {
          "base_uri": "https://localhost:8080/"
        },
        "id": "yvr13q_fsyqv",
        "outputId": "3eb96eb5-0f74-48e0-84ac-370e9a351d96"
      },
      "execution_count": null,
      "outputs": [
        {
          "output_type": "stream",
          "name": "stdout",
          "text": [
            "0.2595419847328244 0.2684563758389262 0.338235294117647 0.5121951219512196\n"
          ]
        }
      ]
    },
    {
      "cell_type": "code",
      "source": [
        "import matplotlib.pyplot as plt\n",
        "\n",
        "packages = ['sm', 'md', 'lg', 'trf']\n",
        "f1s = [ sm_f1, md_f1, lg_f1, trf_f1 ]\n",
        "recalls = [ sm_r, md_r, lg_r, trf_r ]\n",
        "precisions = [ sm_p, md_p, lg_p, trf_p ]\n",
        "accuracys = [ sm_a, md_a, lg_a, trf_a ]\n",
        "\n",
        "x_pos = [i for i, _ in enumerate(packages)]\n",
        "\n",
        "plt.figure(0)\n",
        "plt.bar(x_pos, accuracys, color='blue')\n",
        "plt.title(\"Accuracy Scores for Each Package\")\n",
        "plt.xlabel(\"Packages\")\n",
        "plt.ylabel(\"Score\")\n",
        "plt.xticks(x_pos, packages)\n",
        "\n",
        "plt.figure(1)\n",
        "plt.bar(x_pos, f1s, color='red')\n",
        "plt.title(\"F1 Scores for Each Package\")\n",
        "plt.xlabel(\"Packages\")\n",
        "plt.ylabel(\"Score\")\n",
        "plt.xticks(x_pos, packages)\n",
        "\n",
        "plt.figure(2)\n",
        "plt.bar(x_pos, recalls, color='orange')\n",
        "plt.title(\"Recall Scores for Each Package\")\n",
        "plt.xlabel(\"Packages\")\n",
        "plt.ylabel(\"Score\")\n",
        "plt.xticks(x_pos, packages)\n",
        "\n",
        "plt.figure(3)\n",
        "plt.bar(x_pos, precisions, color='purple')\n",
        "plt.title(\"Precision Scores for Each Package\")\n",
        "plt.xlabel(\"Packages\")\n",
        "plt.ylabel(\"Score\")\n",
        "plt.xticks(x_pos, packages)\n",
        "\n"
      ],
      "metadata": {
        "id": "w5CWYPZc7_pm",
        "colab": {
          "base_uri": "https://localhost:8080/",
          "height": 1000
        },
        "outputId": "75f2b802-2dab-4bfa-ddf4-bb44f69fb938"
      },
      "execution_count": null,
      "outputs": [
        {
          "output_type": "execute_result",
          "data": {
            "text/plain": [
              "([<matplotlib.axis.XTick at 0x7faedd484e50>,\n",
              "  <matplotlib.axis.XTick at 0x7faedd484e10>,\n",
              "  <matplotlib.axis.XTick at 0x7faedd484a90>,\n",
              "  <matplotlib.axis.XTick at 0x7faedd44b0d0>],\n",
              " [Text(0, 0, 'sm'), Text(0, 0, 'md'), Text(0, 0, 'lg'), Text(0, 0, 'trf')])"
            ]
          },
          "metadata": {},
          "execution_count": 37
        },
        {
          "output_type": "display_data",
          "data": {
            "text/plain": [
              "<Figure size 432x288 with 1 Axes>"
            ],
            "image/png": "[encoded data removed]"
          },
          "metadata": {
            "needs_background": "light"
          }
        },
        {
          "output_type": "display_data",
          "data": {
            "text/plain": [
              "<Figure size 432x288 with 1 Axes>"
            ],
            "image/png": "[encoded data removed]"
          },
          "metadata": {
            "needs_background": "light"
          }
        },
        {
          "output_type": "display_data",
          "data": {
            "text/plain": [
              "<Figure size 432x288 with 1 Axes>"
            ],
            "image/png": "[encoded data removed]"
          },
          "metadata": {
            "needs_background": "light"
          }
        },
        {
          "output_type": "display_data",
          "data": {
            "text/plain": [
              "<Figure size 432x288 with 1 Axes>"
            ],
            "image/png": "[encoded data removed]"
          },
          "metadata": {
            "needs_background": "light"
          }
        }
      ]
    },
    {
      "cell_type": "markdown",
      "source": [
        "Appears trf is the optimal and the one that was being used, sm is by far the worst."
      ],
      "metadata": {
        "id": "leJ4WIYOFPV9"
      }
    },
    {
      "cell_type": "markdown",
      "source": [
        "# Training NERs"
      ],
      "metadata": {
        "id": "f810LBq7sRgB"
      }
    },
    {
      "cell_type": "markdown",
      "source": [
        "## sm Training"
      ],
      "metadata": {
        "id": "dNaese0bA5cO"
      }
    },
    {
      "cell_type": "code",
      "source": [
        "from random import sample"
      ],
      "metadata": {
        "id": "E0OKV9ORAbDl"
      },
      "execution_count": null,
      "outputs": []
    },
    {
      "cell_type": "code",
      "source": [
        "training_df = pd.read_csv('/content/drive/My Drive/Colab Notebooks/Diss/training_data.csv')"
      ],
      "metadata": {
        "id": "f-0kfkzHeL5Y"
      },
      "execution_count": null,
      "outputs": []
    },
    {
      "cell_type": "code",
      "source": [
        "training_df['Names of Streets'][0]"
      ],
      "metadata": {
        "colab": {
          "base_uri": "https://localhost:8080/",
          "height": 35
        },
        "id": "EIwFQ_Q5jDre",
        "outputId": "bccb0d24-9561-47f2-b3f3-efb5f619c12d"
      },
      "execution_count": null,
      "outputs": [
        {
          "output_type": "execute_result",
          "data": {
            "text/plain": [
              "'Mountbatten Close'"
            ],
            "application/vnd.google.colaboratory.intrinsic+json": {
              "type": "string"
            }
          },
          "metadata": {},
          "execution_count": 40
        }
      ]
    },
    {
      "cell_type": "code",
      "source": [
        "training_data = []\n",
        "for i in training_df['Names of Streets']:\n",
        "  start = 0\n",
        "  end = int(len(i))\n",
        "  dic = {\"entities\": [(start,end, \"FAC\")]}\n",
        "  tup = i,dic\n",
        "  training_data.append(tup)"
      ],
      "metadata": {
        "id": "s3dBgrrfgFDp"
      },
      "execution_count": null,
      "outputs": []
    },
    {
      "cell_type": "code",
      "source": [
        "training_data1 = sample(training_data, 40)"
      ],
      "metadata": {
        "id": "rrI-BCZ-jfBb"
      },
      "execution_count": null,
      "outputs": []
    },
    {
      "cell_type": "code",
      "source": [
        "\n",
        "training_data = [\n",
        "    (\"Coopper street is over there\", {\"entities\": [(0, 14, \"FAC\")]}),\n",
        "    (\"I reached Ladder avenue yesterday.\", {\"entities\": [(10, 23, \"FAC\")]}),\n",
        "    (\"It says Amberly terrace I think.\", {\"entities\": [(8, 22, \"FAC\")]}),\n",
        "    (\"the Mitre is the local pub\", {\"entities\": [(0, 8, \"FAC\")]}),\n",
        "    (\"carr's Libray has the best selection\", {\"entities\": [(0, 12, \"FAC\")]}),\n",
        "    (\"stop by Lambert avenue\", {\"entities\": [(8, 22, \"FAC\")]}),\n",
        "    (\"Is that the one on Carter close\", {\"entities\": [(19, 31, \"FAC\")]}),\n",
        "    (\"I got this at the shop on the Gannersby\", {\"entities\": [(26, 39, \"FAC\")]}),\n",
        "    (\"that is Borgan's castle\", {\"entities\": [(8, 23, \"FAC\")]}),\n",
        "    (\"follow this road until gordon street\", {\"entities\": [(23, 36, \"FAC\")]}),\n",
        "\n",
        "]\n"
      ],
      "metadata": {
        "id": "A7MZUTz3tacH"
      },
      "execution_count": null,
      "outputs": []
    },
    {
      "cell_type": "code",
      "source": [
        "type(training_data1[0][1])"
      ],
      "metadata": {
        "colab": {
          "base_uri": "https://localhost:8080/"
        },
        "id": "kqqmAayxlGYF",
        "outputId": "ac2eb5ea-b249-4ee3-9049-60a58ed768eb"
      },
      "execution_count": null,
      "outputs": [
        {
          "output_type": "execute_result",
          "data": {
            "text/plain": [
              "dict"
            ]
          },
          "metadata": {},
          "execution_count": 44
        }
      ]
    },
    {
      "cell_type": "code",
      "source": [
        "import spacy\n",
        "import random\n",
        "from spacy.training.example import Example\n",
        "from spacy.util import minibatch, compounding\n",
        "from pathlib import Path\n",
        "\n",
        "updated_model_dir = '/content/drive/My Drive/Colab Notebooks/Diss/Training/sm'\n",
        "\n",
        "## Update existing spacy model and store into a folder\n",
        "def update_model(model='en_core_web_sm', output_dir=updated_model_dir, n_iter=30):\n",
        "    \"\"\"Load the model, set up the pipeline and train the entity recognizer.\"\"\"\n",
        "    if model is not None:\n",
        "        nlp = spacy.load(model)  # load existing spaCy model\n",
        "        print(\"Loaded model '%s'\" % model)\n",
        "    else:\n",
        "        nlp = spacy.blank(\"en\")  # create blank Language class\n",
        "        print(\"Created blank 'en' model\")\n",
        "\n",
        "    # create the built-in pipeline components and add them to the pipeline\n",
        "    # nlp.create_pipe works for built-ins that are registered with spaCy\n",
        "    if \"ner\" not in nlp.pipe_names:\n",
        "        ner = nlp.create_pipe(\"ner\")\n",
        "        nlp.add_pipe(ner, last=True)\n",
        "    # otherwise, get it so we can add labels\n",
        "    else:\n",
        "        ner = nlp.get_pipe(\"ner\")\n",
        "\n",
        "\n",
        "    # get names of other pipes to disable them during training\n",
        "    other_pipes = [pipe for pipe in nlp.pipe_names if pipe != \"ner\"]\n",
        "    with nlp.disable_pipes(*other_pipes):  # only train NER\n",
        "        # reset and initialize the weights randomly – but only if we're\n",
        "        # training a new model\n",
        "        if model is None:\n",
        "            nlp.begin_training()\n",
        "        for itn in range(n_iter):\n",
        "            random.shuffle(training_data)\n",
        "            losses = {}\n",
        "            # batch up the examples using spaCy's minibatch\n",
        "            batches = minibatch(training_data, size=compounding(4.0, 32.0, 1.001))\n",
        "\n",
        "        for batch in spacy.util.minibatch(training_data, size=2):\n",
        "          for text, annotations in batch:\n",
        "            # create Example\n",
        "            doc = nlp.make_doc(text)\n",
        "            example = Example.from_dict(doc, annotations)\n",
        "            # Update the model\n",
        "            nlp.update([example], losses=losses, drop=0.3)\n",
        "\n",
        "    # test the trained model\n",
        "    for text, _ in training_data:\n",
        "        doc = nlp(text)\n",
        "        print(\"Entities\", [(ent.text, ent.label_) for ent in doc.ents])\n",
        "        print(\"Tokens\", [(t.text, t.ent_type_, t.ent_iob) for t in doc])\n",
        "\n",
        "    # save model to output directory\n",
        "    if output_dir is not None:\n",
        "        output_dir = Path(output_dir)\n",
        "        if not output_dir.exists():\n",
        "            output_dir.mkdir()\n",
        "        nlp.to_disk(output_dir)\n",
        "        print(\"Saved model to\", output_dir)\n",
        "\n",
        "# Finally train the model by calling above function\n",
        "update_model()"
      ],
      "metadata": {
        "id": "NBjcVbsisWQX",
        "colab": {
          "base_uri": "https://localhost:8080/"
        },
        "outputId": "8cfa3b83-75fb-468d-8da8-913555768956"
      },
      "execution_count": null,
      "outputs": [
        {
          "output_type": "stream",
          "name": "stdout",
          "text": [
            "Loaded model 'en_core_web_sm'\n"
          ]
        },
        {
          "output_type": "stream",
          "name": "stderr",
          "text": [
            "/usr/local/lib/python3.7/dist-packages/spacy/training/iob_utils.py:152: UserWarning: [W030] Some entities could not be aligned in the text \"It says Amberly terrace I think.\" with entities \"[(8, 22, 'FAC')]\". Use `spacy.training.offsets_to_biluo_tags(nlp.make_doc(text), entities)` to check the alignment. Misaligned entities ('-') will be ignored during training.\n",
            "  entities=ent_str[:50] + \"...\" if len(ent_str) > 50 else ent_str,\n",
            "/usr/local/lib/python3.7/dist-packages/spacy/training/iob_utils.py:152: UserWarning: [W030] Some entities could not be aligned in the text \"carr's Libray has the best selection\" with entities \"[(0, 12, 'FAC')]\". Use `spacy.training.offsets_to_biluo_tags(nlp.make_doc(text), entities)` to check the alignment. Misaligned entities ('-') will be ignored during training.\n",
            "  entities=ent_str[:50] + \"...\" if len(ent_str) > 50 else ent_str,\n",
            "/usr/local/lib/python3.7/dist-packages/spacy/training/iob_utils.py:152: UserWarning: [W030] Some entities could not be aligned in the text \"the Mitre is the local pub\" with entities \"[(0, 8, 'FAC')]\". Use `spacy.training.offsets_to_biluo_tags(nlp.make_doc(text), entities)` to check the alignment. Misaligned entities ('-') will be ignored during training.\n",
            "  entities=ent_str[:50] + \"...\" if len(ent_str) > 50 else ent_str,\n"
          ]
        },
        {
          "output_type": "stream",
          "name": "stdout",
          "text": [
            "Entities [('gordon street', 'FAC')]\n",
            "Tokens [('follow', '', 2), ('this', '', 2), ('road', '', 2), ('until', '', 2), ('gordon', 'FAC', 3), ('street', 'FAC', 1)]\n",
            "Entities [('Lambert avenue', 'FAC')]\n",
            "Tokens [('stop', '', 2), ('by', '', 2), ('Lambert', 'FAC', 3), ('avenue', 'FAC', 1)]\n",
            "Entities []\n",
            "Tokens [('I', '', 2), ('got', '', 2), ('this', '', 2), ('at', '', 2), ('the', '', 2), ('shop', '', 2), ('on', '', 2), ('the', '', 2), ('Gannersby', '', 2)]\n",
            "Entities [('Ladder avenue', 'FAC'), ('yesterday', 'DATE')]\n",
            "Tokens [('I', '', 2), ('reached', '', 2), ('Ladder', 'FAC', 3), ('avenue', 'FAC', 1), ('yesterday', 'DATE', 3), ('.', '', 2)]\n",
            "Entities []\n",
            "Tokens [('It', '', 2), ('says', '', 2), ('Amberly', '', 2), ('terrace', '', 2), ('I', '', 2), ('think', '', 2), ('.', '', 2)]\n",
            "Entities [('Carter', 'PERSON')]\n",
            "Tokens [('Is', '', 2), ('that', '', 2), ('the', '', 2), ('one', '', 2), ('on', '', 2), ('Carter', 'PERSON', 3), ('close', '', 2)]\n",
            "Entities [('Coopper street', 'FAC')]\n",
            "Tokens [('Coopper', 'FAC', 3), ('street', 'FAC', 1), ('is', '', 2), ('over', '', 2), ('there', '', 2)]\n",
            "Entities [(\"Borgan's\", 'FAC')]\n",
            "Tokens [('that', '', 2), ('is', '', 2), ('Borgan', 'FAC', 3), (\"'s\", 'FAC', 1), ('castle', '', 2)]\n",
            "Entities [(\"carr's Libray\", 'ORG')]\n",
            "Tokens [('carr', 'ORG', 3), (\"'s\", 'ORG', 1), ('Libray', 'ORG', 1), ('has', '', 2), ('the', '', 2), ('best', '', 2), ('selection', '', 2)]\n",
            "Entities []\n",
            "Tokens [('the', '', 2), ('Mitre', '', 2), ('is', '', 2), ('the', '', 2), ('local', '', 2), ('pub', '', 2)]\n",
            "Saved model to /content/drive/My Drive/Colab Notebooks/Diss/Training/sm\n"
          ]
        }
      ]
    },
    {
      "cell_type": "code",
      "source": [
        "# Importing SpaCy and relevent packages\n",
        "import spacy\n",
        "from spacy import displacy\n",
        "\n",
        "# Loading NER\n",
        "NER = spacy.load(updated_model_dir)\n",
        "\n",
        "# Using chapter 3 as the text\n",
        "text = chapters[2]\n",
        "\n",
        "# Using NER on test\n",
        "test = NER(text)\n",
        "\n",
        "# Creating blank list for the entities\n",
        "fin =[]\n",
        "other = []\n",
        "# Looping the entities that are found and their label\n",
        "for ent in test.ents:\n",
        "\n",
        "  # Adding dublin, ireland to each text\n",
        "  address = ent\n",
        "  # Implementing truth statement to filter the entities we want\n",
        "  if ent.label_ == \"ORG\":\n",
        "    fin.append(address)\n",
        "  if ent.label_ == \"LOC\":\n",
        "    fin.append(address)\n",
        "  if ent.label_ == \"GPE\":\n",
        "    fin.append(address)\n",
        "  if ent.label_ == \"FAC\":\n",
        "    fin.append(address)\n",
        "  else:\n",
        "    other.append(address)"
      ],
      "metadata": {
        "id": "_ZILPL2Uvcue"
      },
      "execution_count": null,
      "outputs": []
    },
    {
      "cell_type": "code",
      "source": [
        "# Checking if manually checked locationas are also found by NER\n",
        "found_ent=[]\n",
        "not_found_ent=[]\n",
        "for manual_string in chapter_3_list:\n",
        "  if manual_string not in str(fin):\n",
        "    not_found_ent.append(manual_string)\n",
        "  else:\n",
        "    found_ent.append(manual_string)\n",
        "\n",
        "# Checking if NER extracts more entities that are not locations\n",
        "false_found = []\n",
        "for ner_string in fin:\n",
        "  if str(ner_string) not in chapter_3_list:\n",
        "    false_found.append(ner_string)\n",
        "\n",
        "# Checking if NER filters out entities that are actually correct\n",
        "poss_error = []\n",
        "def_error = []\n",
        "for ner_string in other:\n",
        "  if str(ner_string) in chapter_3_list:\n",
        "    poss_error.append(ner_string)\n",
        "for ner_string in poss_error:\n",
        "  if ner_string not in fin:\n",
        "    def_error.append(ner_string)"
      ],
      "metadata": {
        "id": "DDWY8aHwzn2Y"
      },
      "execution_count": null,
      "outputs": []
    },
    {
      "cell_type": "code",
      "source": [
        "sm2_true_positive = len(found_ent)\n",
        "sm2_true_negative = len(other) - len(def_error)\n",
        "sm2_false_positive = len(false_found)\n",
        "sm2_false_negative = len(not_found_ent) + len(def_error)"
      ],
      "metadata": {
        "id": "YyK8lX8JzujF"
      },
      "execution_count": null,
      "outputs": []
    },
    {
      "cell_type": "code",
      "source": [
        "sm2_f1 = f1(precision(sm2_true_positive, sm2_false_positive),\n",
        "                   recall(sm2_true_positive, sm2_false_negative))\n",
        "sm2_r = recall(sm2_true_positive, sm2_false_negative)\n",
        "sm2_p = precision(sm2_true_positive, sm2_false_positive)\n",
        "sm2_a = accuracy(sm2_true_positive, sm2_true_negative, sm2_false_positive,\n",
        "                sm2_false_negative)\n",
        "print(\"Accuracy is \", sm2_a)\n",
        "print(\"Precision is \", precision(sm2_true_positive, sm2_false_positive))\n",
        "print(\"Recall is \", recall(sm2_true_positive, sm2_false_negative))\n",
        "print(\"F1 is \", f1(precision(sm2_true_positive, sm2_false_positive),\n",
        "                   recall(sm2_true_positive, sm2_false_negative)))"
      ],
      "metadata": {
        "id": "Rtf6jLbyz3h0",
        "colab": {
          "base_uri": "https://localhost:8080/"
        },
        "outputId": "294e3088-ebd6-4b28-ac28-86b643bc542a"
      },
      "execution_count": null,
      "outputs": [
        {
          "output_type": "stream",
          "name": "stdout",
          "text": [
            "Accuracy is  0.6909090909090909\n",
            "Precision is  0.15789473684210525\n",
            "Recall is  0.43902439024390244\n",
            "F1 is  0.23225806451612904\n"
          ]
        }
      ]
    },
    {
      "cell_type": "code",
      "source": [
        "import matplotlib.pyplot as plt\n",
        "\n",
        "packages = ['sm', 'sm trained']\n",
        "f1s = [ sm_f1, sm2_f1]\n",
        "recalls = [ sm_r, sm2_r]\n",
        "precisions = [ sm_p, sm2_p]\n",
        "accuracys = [ sm_a, sm2_a]\n",
        "\n",
        "x_pos = [i for i, _ in enumerate(packages)]\n",
        "\n",
        "plt.figure(0)\n",
        "plt.bar(x_pos, accuracys, color='blue')\n",
        "plt.title(\"Accuracy Scores for Each Package\")\n",
        "plt.xlabel(\"Packages\")\n",
        "plt.ylabel(\"Score\")\n",
        "plt.xticks(x_pos, packages)\n",
        "\n",
        "plt.figure(1)\n",
        "plt.bar(x_pos, f1s, color='red')\n",
        "plt.title(\"F1 Scores for Each Package\")\n",
        "plt.xlabel(\"Packages\")\n",
        "plt.ylabel(\"Score\")\n",
        "plt.xticks(x_pos, packages)\n",
        "\n",
        "plt.figure(2)\n",
        "plt.bar(x_pos, recalls, color='orange')\n",
        "plt.title(\"Recall Scores for Each Package\")\n",
        "plt.xlabel(\"Packages\")\n",
        "plt.ylabel(\"Score\")\n",
        "plt.xticks(x_pos, packages)\n",
        "\n",
        "plt.figure(3)\n",
        "plt.bar(x_pos, precisions, color='purple')\n",
        "plt.title(\"Precision Scores for Each Package\")\n",
        "plt.xlabel(\"Packages\")\n",
        "plt.ylabel(\"Score\")\n",
        "plt.xticks(x_pos, packages)"
      ],
      "metadata": {
        "id": "UjbjSvRH0Ahd",
        "colab": {
          "base_uri": "https://localhost:8080/",
          "height": 1000
        },
        "outputId": "4092f40b-a018-49d3-e207-db8095c76209"
      },
      "execution_count": null,
      "outputs": [
        {
          "output_type": "execute_result",
          "data": {
            "text/plain": [
              "([<matplotlib.axis.XTick at 0x7faed99b1cd0>,\n",
              "  <matplotlib.axis.XTick at 0x7faed99b1d10>],\n",
              " [Text(0, 0, 'sm'), Text(0, 0, 'sm trained')])"
            ]
          },
          "metadata": {},
          "execution_count": 50
        },
        {
          "output_type": "display_data",
          "data": {
            "text/plain": [
              "<Figure size 432x288 with 1 Axes>"
            ],
            "image/png": "[encoded data removed]"
          },
          "metadata": {
            "needs_background": "light"
          }
        },
        {
          "output_type": "display_data",
          "data": {
            "text/plain": [
              "<Figure size 432x288 with 1 Axes>"
            ],
            "image/png": "[encoded data removed]"
          },
          "metadata": {
            "needs_background": "light"
          }
        },
        {
          "output_type": "display_data",
          "data": {
            "text/plain": [
              "<Figure size 432x288 with 1 Axes>"
            ],
            "image/png": "[encoded data removed]"
          },
          "metadata": {
            "needs_background": "light"
          }
        },
        {
          "output_type": "display_data",
          "data": {
            "text/plain": [
              "<Figure size 432x288 with 1 Axes>"
            ],
            "image/png": "[encoded data removed]"
          },
          "metadata": {
            "needs_background": "light"
          }
        }
      ]
    },
    {
      "cell_type": "markdown",
      "source": [
        "## md Training"
      ],
      "metadata": {
        "id": "AbpiAZTABJMn"
      }
    },
    {
      "cell_type": "code",
      "source": [
        "updated_model_dir = '/content/drive/My Drive/Colab Notebooks/Diss/Training/md'\n",
        "\n",
        "## Update existing spacy model and store into a folder\n",
        "def update_model(model='en_core_web_md', output_dir=updated_model_dir, n_iter=30):\n",
        "    \"\"\"Load the model, set up the pipeline and train the entity recognizer.\"\"\"\n",
        "    if model is not None:\n",
        "        nlp = spacy.load(model)  # load existing spaCy model\n",
        "        print(\"Loaded model '%s'\" % model)\n",
        "    else:\n",
        "        nlp = spacy.blank(\"en\")  # create blank Language class\n",
        "        print(\"Created blank 'en' model\")\n",
        "\n",
        "    # create the built-in pipeline components and add them to the pipeline\n",
        "    # nlp.create_pipe works for built-ins that are registered with spaCy\n",
        "    if \"ner\" not in nlp.pipe_names:\n",
        "        ner = nlp.create_pipe(\"ner\")\n",
        "        nlp.add_pipe(ner, last=True)\n",
        "    # otherwise, get it so we can add labels\n",
        "    else:\n",
        "        ner = nlp.get_pipe(\"ner\")\n",
        "\n",
        "\n",
        "    # get names of other pipes to disable them during training\n",
        "    other_pipes = [pipe for pipe in nlp.pipe_names if pipe != \"ner\"]\n",
        "    with nlp.disable_pipes(*other_pipes):  # only train NER\n",
        "        # reset and initialize the weights randomly – but only if we're\n",
        "        # training a new model\n",
        "        if model is None:\n",
        "            nlp.begin_training()\n",
        "        for itn in range(n_iter):\n",
        "            random.shuffle(training_data)\n",
        "            losses = {}\n",
        "            # batch up the examples using spaCy's minibatch\n",
        "            batches = minibatch(training_data, size=compounding(4.0, 32.0, 1.001))\n",
        "\n",
        "        for batch in spacy.util.minibatch(training_data, size=2):\n",
        "          for text, annotations in batch:\n",
        "            # create Example\n",
        "            doc = nlp.make_doc(text)\n",
        "            example = Example.from_dict(doc, annotations)\n",
        "            # Update the model\n",
        "            nlp.update([example], losses=losses, drop=0.3)\n",
        "\n",
        "    # test the trained model\n",
        "    for text, _ in training_data:\n",
        "        doc = nlp(text)\n",
        "        print(\"Entities\", [(ent.text, ent.label_) for ent in doc.ents])\n",
        "        print(\"Tokens\", [(t.text, t.ent_type_, t.ent_iob) for t in doc])\n",
        "\n",
        "    # save model to output directory\n",
        "    if output_dir is not None:\n",
        "        output_dir = Path(output_dir)\n",
        "        if not output_dir.exists():\n",
        "            output_dir.mkdir()\n",
        "        nlp.to_disk(output_dir)\n",
        "        print(\"Saved model to\", output_dir)\n",
        "\n",
        "# Finally train the model by calling above function\n",
        "update_model()\n",
        "\n",
        "# Importing SpaCy and relevent packages\n",
        "import spacy\n",
        "from spacy import displacy\n",
        "\n",
        "# Loading NER\n",
        "NER = spacy.load(updated_model_dir)\n",
        "\n",
        "# Using chapter 3 as the text\n",
        "text = chapters[2]\n",
        "\n",
        "# Using NER on test\n",
        "test = NER(text)\n",
        "\n",
        "# Creating blank list for the entities\n",
        "fin =[]\n",
        "other = []\n",
        "# Looping the entities that are found and their label\n",
        "for ent in test.ents:\n",
        "\n",
        "  # Adding dublin, ireland to each text\n",
        "  address = ent\n",
        "  # Implementing truth statement to filter the entities we want\n",
        "  if ent.label_ == \"ORG\":\n",
        "    fin.append(address)\n",
        "  if ent.label_ == \"LOC\":\n",
        "    fin.append(address)\n",
        "  if ent.label_ == \"GPE\":\n",
        "    fin.append(address)\n",
        "  if ent.label_ == \"FAC\":\n",
        "    fin.append(address)\n",
        "  else:\n",
        "    other.append(address)\n",
        "\n",
        "# Checking if manually checked locationas are also found by NER\n",
        "found_ent=[]\n",
        "not_found_ent=[]\n",
        "for manual_string in chapter_3_list:\n",
        "  if manual_string not in str(fin):\n",
        "    not_found_ent.append(manual_string)\n",
        "  else:\n",
        "    found_ent.append(manual_string)\n",
        "\n",
        "# Checking if NER extracts more entities that are not locations\n",
        "false_found = []\n",
        "for ner_string in fin:\n",
        "  if str(ner_string) not in chapter_3_list:\n",
        "    false_found.append(ner_string)\n",
        "\n",
        "# Checking if NER filters out entities that are actually correct\n",
        "poss_error = []\n",
        "def_error = []\n",
        "for ner_string in other:\n",
        "  if str(ner_string) in chapter_3_list:\n",
        "    poss_error.append(ner_string)\n",
        "for ner_string in poss_error:\n",
        "  if ner_string not in fin:\n",
        "    def_error.append(ner_string)\n",
        "\n",
        "md2_true_positive = len(found_ent)\n",
        "md2_true_negative = len(other) - len(def_error)\n",
        "md2_false_positive = len(false_found)\n",
        "md2_false_negative = len(not_found_ent) + len(def_error)\n",
        "\n",
        "md2_f1 = f1(precision(md2_true_positive, md2_false_positive),\n",
        "                   recall(md2_true_positive, md2_false_negative))\n",
        "md2_r = recall(md2_true_positive, md2_false_negative)\n",
        "md2_p = precision(md2_true_positive, md2_false_positive)\n",
        "md2_a = accuracy(md2_true_positive, md2_true_negative, md2_false_positive,\n",
        "                md2_false_negative)\n",
        "print(\"Accuracy is \", md2_a)\n",
        "print(\"Precision is \", precision(md2_true_positive, md2_false_positive))\n",
        "print(\"Recall is \", recall(md2_true_positive, md2_false_negative))\n",
        "print(\"F1 is \", f1(precision(md2_true_positive, md2_false_positive),\n",
        "                   recall(md2_true_positive, md2_false_negative)))"
      ],
      "metadata": {
        "id": "ZMweFFzwBAwA",
        "colab": {
          "base_uri": "https://localhost:8080/"
        },
        "outputId": "6d5d249b-b2b6-4ae0-ffb4-f8ba3c5a75bb"
      },
      "execution_count": null,
      "outputs": [
        {
          "output_type": "stream",
          "name": "stdout",
          "text": [
            "Loaded model 'en_core_web_md'\n",
            "Entities [('Coopper street', 'FAC')]\n",
            "Tokens [('Coopper', 'FAC', 3), ('street', 'FAC', 1), ('is', '', 2), ('over', '', 2), ('there', '', 2)]\n",
            "Entities [('Amberly terrace', 'FAC')]\n",
            "Tokens [('It', '', 2), ('says', '', 2), ('Amberly', 'FAC', 3), ('terrace', 'FAC', 1), ('I', '', 2), ('think', '', 2), ('.', '', 2)]\n",
            "Entities [('Ladder avenue', 'FAC'), ('yesterday', 'DATE')]\n",
            "Tokens [('I', '', 2), ('reached', '', 2), ('Ladder', 'FAC', 3), ('avenue', 'FAC', 1), ('yesterday', 'DATE', 3), ('.', '', 2)]\n",
            "Entities [('Lambert avenue', 'FAC')]\n",
            "Tokens [('stop', '', 2), ('by', '', 2), ('Lambert', 'FAC', 3), ('avenue', 'FAC', 1)]\n",
            "Entities [('Carter close', 'FAC')]\n",
            "Tokens [('Is', '', 2), ('that', '', 2), ('the', '', 2), ('one', '', 2), ('on', '', 2), ('Carter', 'FAC', 3), ('close', 'FAC', 1)]\n",
            "Entities [(\"Borgan's\", 'ORG')]\n",
            "Tokens [('that', '', 2), ('is', '', 2), ('Borgan', 'ORG', 3), (\"'s\", 'ORG', 1), ('castle', '', 2)]\n",
            "Entities [('gordon street', 'FAC')]\n",
            "Tokens [('follow', '', 2), ('this', '', 2), ('road', '', 2), ('until', '', 2), ('gordon', 'FAC', 3), ('street', 'FAC', 1)]\n",
            "Entities []\n",
            "Tokens [('I', '', 2), ('got', '', 2), ('this', '', 2), ('at', '', 2), ('the', '', 2), ('shop', '', 2), ('on', '', 2), ('the', '', 2), ('Gannersby', '', 2)]\n",
            "Entities [('carr', 'ORG'), ('Libray', 'PERSON')]\n",
            "Tokens [('carr', 'ORG', 3), (\"'s\", '', 2), ('Libray', 'PERSON', 3), ('has', '', 2), ('the', '', 2), ('best', '', 2), ('selection', '', 2)]\n",
            "Entities [('Mitre', 'PRODUCT')]\n",
            "Tokens [('the', '', 2), ('Mitre', 'PRODUCT', 3), ('is', '', 2), ('the', '', 2), ('local', '', 2), ('pub', '', 2)]\n",
            "Saved model to /content/drive/My Drive/Colab Notebooks/Diss/Training/md\n",
            "Accuracy is  0.7568181818181818\n",
            "Precision is  0.19642857142857142\n",
            "Recall is  0.5641025641025641\n",
            "F1 is  0.2913907284768212\n"
          ]
        }
      ]
    },
    {
      "cell_type": "markdown",
      "source": [
        "## lg Training"
      ],
      "metadata": {
        "id": "49_7Eq_mCHZt"
      }
    },
    {
      "cell_type": "code",
      "source": [
        "updated_model_dir = '/content/drive/My Drive/Colab Notebooks/Diss/Training/lg'\n",
        "\n",
        "## Update existing spacy model and store into a folder\n",
        "def update_model(model='en_core_web_lg', output_dir=updated_model_dir, n_iter=30):\n",
        "    \"\"\"Load the model, set up the pipeline and train the entity recognizer.\"\"\"\n",
        "    if model is not None:\n",
        "        nlp = spacy.load(model)  # load existing spaCy model\n",
        "        print(\"Loaded model '%s'\" % model)\n",
        "    else:\n",
        "        nlp = spacy.blank(\"en\")  # create blank Language class\n",
        "        print(\"Created blank 'en' model\")\n",
        "\n",
        "    # create the built-in pipeline components and add them to the pipeline\n",
        "    # nlp.create_pipe works for built-ins that are registered with spaCy\n",
        "    if \"ner\" not in nlp.pipe_names:\n",
        "        ner = nlp.create_pipe(\"ner\")\n",
        "        nlp.add_pipe(ner, last=True)\n",
        "    # otherwise, get it so we can add labels\n",
        "    else:\n",
        "        ner = nlp.get_pipe(\"ner\")\n",
        "\n",
        "\n",
        "    # get names of other pipes to disable them during training\n",
        "    other_pipes = [pipe for pipe in nlp.pipe_names if pipe != \"ner\"]\n",
        "    with nlp.disable_pipes(*other_pipes):  # only train NER\n",
        "        # reset and initialize the weights randomly – but only if we're\n",
        "        # training a new model\n",
        "        if model is None:\n",
        "            nlp.begin_training()\n",
        "        for itn in range(n_iter):\n",
        "            random.shuffle(training_data)\n",
        "            losses = {}\n",
        "            # batch up the examples using spaCy's minibatch\n",
        "            batches = minibatch(training_data, size=compounding(4.0, 32.0, 1.001))\n",
        "\n",
        "        for batch in spacy.util.minibatch(training_data, size=2):\n",
        "          for text, annotations in batch:\n",
        "            # create Example\n",
        "            doc = nlp.make_doc(text)\n",
        "            example = Example.from_dict(doc, annotations)\n",
        "            # Update the model\n",
        "            nlp.update([example], losses=losses, drop=0.3)\n",
        "\n",
        "    # test the trained model\n",
        "    for text, _ in training_data:\n",
        "        doc = nlp(text)\n",
        "        print(\"Entities\", [(ent.text, ent.label_) for ent in doc.ents])\n",
        "        print(\"Tokens\", [(t.text, t.ent_type_, t.ent_iob) for t in doc])\n",
        "\n",
        "    # save model to output directory\n",
        "    if output_dir is not None:\n",
        "        output_dir = Path(output_dir)\n",
        "        if not output_dir.exists():\n",
        "            output_dir.mkdir()\n",
        "        nlp.to_disk(output_dir)\n",
        "        print(\"Saved model to\", output_dir)\n",
        "\n",
        "# Finally train the model by calling above function\n",
        "update_model()\n",
        "\n",
        "# Importing SpaCy and relevent packages\n",
        "import spacy\n",
        "from spacy import displacy\n",
        "\n",
        "# Loading NER\n",
        "NER = spacy.load(updated_model_dir)\n",
        "\n",
        "# Using chapter 3 as the text\n",
        "text = chapters[2]\n",
        "\n",
        "# Using NER on test\n",
        "test = NER(text)\n",
        "\n",
        "# Creating blank list for the entities\n",
        "fin =[]\n",
        "other = []\n",
        "# Looping the entities that are found and their label\n",
        "for ent in test.ents:\n",
        "\n",
        "  # Adding dublin, ireland to each text\n",
        "  address = ent\n",
        "  # Implementing truth statement to filter the entities we want\n",
        "  if ent.label_ == \"ORG\":\n",
        "    fin.append(address)\n",
        "  if ent.label_ == \"LOC\":\n",
        "    fin.append(address)\n",
        "  if ent.label_ == \"GPE\":\n",
        "    fin.append(address)\n",
        "  if ent.label_ == \"FAC\":\n",
        "    fin.append(address)\n",
        "  else:\n",
        "    other.append(address)\n",
        "\n",
        "# Checking if manually checked locationas are also found by NER\n",
        "found_ent=[]\n",
        "not_found_ent=[]\n",
        "for manual_string in chapter_3_list:\n",
        "  if manual_string not in str(fin):\n",
        "    not_found_ent.append(manual_string)\n",
        "  else:\n",
        "    found_ent.append(manual_string)\n",
        "\n",
        "# Checking if NER extracts more entities that are not locations\n",
        "false_found = []\n",
        "for ner_string in fin:\n",
        "  if str(ner_string) not in chapter_3_list:\n",
        "    false_found.append(ner_string)\n",
        "\n",
        "# Checking if NER filters out entities that are actually correct\n",
        "poss_error = []\n",
        "def_error = []\n",
        "for ner_string in other:\n",
        "  if str(ner_string) in chapter_3_list:\n",
        "    poss_error.append(ner_string)\n",
        "for ner_string in poss_error:\n",
        "  if ner_string not in fin:\n",
        "    def_error.append(ner_string)\n",
        "\n",
        "lg2_true_positive = len(found_ent)\n",
        "lg2_true_negative = len(other) - len(def_error)\n",
        "lg2_false_positive = len(false_found)\n",
        "lg2_false_negative = len(not_found_ent) + len(def_error)\n",
        "\n",
        "lg2_f1 = f1(precision(lg2_true_positive, lg2_false_positive),\n",
        "                   recall(lg2_true_positive, lg2_false_negative))\n",
        "lg2_r = recall(lg2_true_positive, lg2_false_negative)\n",
        "lg2_p = precision(lg2_true_positive, lg2_false_positive)\n",
        "lg2_a = accuracy(lg2_true_positive, lg2_true_negative, lg2_false_positive,\n",
        "                lg2_false_negative)\n",
        "print(\"Accuracy is \", lg2_a)\n",
        "print(\"Precision is \", precision(lg2_true_positive, lg2_false_positive))\n",
        "print(\"Recall is \", recall(lg2_true_positive, lg2_false_negative))\n",
        "print(\"F1 is \", f1(precision(lg2_true_positive, lg2_false_positive),\n",
        "                   recall(lg2_true_positive, lg2_false_negative)))"
      ],
      "metadata": {
        "id": "A5ccUB-NBUrR",
        "colab": {
          "base_uri": "https://localhost:8080/"
        },
        "outputId": "51ea28ea-5dbb-4b96-c757-3fdf2461040a"
      },
      "execution_count": null,
      "outputs": [
        {
          "output_type": "stream",
          "name": "stdout",
          "text": [
            "Loaded model 'en_core_web_lg'\n",
            "Entities []\n",
            "Tokens [('I', '', 2), ('got', '', 2), ('this', '', 2), ('at', '', 2), ('the', '', 2), ('shop', '', 2), ('on', '', 2), ('the', '', 2), ('Gannersby', '', 2)]\n",
            "Entities [('Ladder avenue', 'FAC'), ('yesterday', 'DATE')]\n",
            "Tokens [('I', '', 2), ('reached', '', 2), ('Ladder', 'FAC', 3), ('avenue', 'FAC', 1), ('yesterday', 'DATE', 3), ('.', '', 2)]\n",
            "Entities [('Amberly', 'PERSON')]\n",
            "Tokens [('It', '', 2), ('says', '', 2), ('Amberly', 'PERSON', 3), ('terrace', '', 2), ('I', '', 2), ('think', '', 2), ('.', '', 2)]\n",
            "Entities [('Lambert avenue', 'FAC')]\n",
            "Tokens [('stop', '', 2), ('by', '', 2), ('Lambert', 'FAC', 3), ('avenue', 'FAC', 1)]\n",
            "Entities [('gordon street', 'FAC')]\n",
            "Tokens [('follow', '', 2), ('this', '', 2), ('road', '', 2), ('until', '', 2), ('gordon', 'FAC', 3), ('street', 'FAC', 1)]\n",
            "Entities [('Carter', 'PERSON')]\n",
            "Tokens [('Is', '', 2), ('that', '', 2), ('the', '', 2), ('one', '', 2), ('on', '', 2), ('Carter', 'PERSON', 3), ('close', '', 2)]\n",
            "Entities [('Coopper street', 'FAC')]\n",
            "Tokens [('Coopper', 'FAC', 3), ('street', 'FAC', 1), ('is', '', 2), ('over', '', 2), ('there', '', 2)]\n",
            "Entities [('carr', 'PERSON'), ('Libray', 'PERSON')]\n",
            "Tokens [('carr', 'PERSON', 3), (\"'s\", '', 2), ('Libray', 'PERSON', 3), ('has', '', 2), ('the', '', 2), ('best', '', 2), ('selection', '', 2)]\n",
            "Entities [(\"Borgan's\", 'ORG')]\n",
            "Tokens [('that', '', 2), ('is', '', 2), ('Borgan', 'ORG', 3), (\"'s\", 'ORG', 1), ('castle', '', 2)]\n",
            "Entities [('Mitre', 'ORG')]\n",
            "Tokens [('the', '', 2), ('Mitre', 'ORG', 3), ('is', '', 2), ('the', '', 2), ('local', '', 2), ('pub', '', 2)]\n",
            "Saved model to /content/drive/My Drive/Colab Notebooks/Diss/Training/lg\n",
            "Accuracy is  0.769041769041769\n",
            "Precision is  0.22330097087378642\n",
            "Recall is  0.6216216216216216\n",
            "F1 is  0.32857142857142857\n"
          ]
        }
      ]
    },
    {
      "cell_type": "markdown",
      "source": [
        "## trf Training"
      ],
      "metadata": {
        "id": "GG84EDcTCGxx"
      }
    },
    {
      "cell_type": "code",
      "source": [
        "'''\n",
        "updated_model_dir = '/content/drive/My Drive/Colab Notebooks/Diss/Training/trf'\n",
        "\n",
        "## Update existing spacy model and store into a folder\n",
        "def update_model(model='en_core_web_trf', output_dir=updated_model_dir, n_iter=30):\n",
        "    \"\"\"Load the model, set up the pipeline and train the entity recognizer.\"\"\"\n",
        "    if model is not None:\n",
        "        nlp = spacy.load(model)  # load existing spaCy model\n",
        "        print(\"Loaded model '%s'\" % model)\n",
        "    else:\n",
        "        nlp = spacy.blank(\"en\")  # create blank Language class\n",
        "        print(\"Created blank 'en' model\")\n",
        "\n",
        "    # create the built-in pipeline components and add them to the pipeline\n",
        "    # nlp.create_pipe works for built-ins that are registered with spaCy\n",
        "    if \"ner\" not in nlp.pipe_names:\n",
        "        ner = nlp.create_pipe(\"ner\")\n",
        "        nlp.add_pipe(ner, last=True)\n",
        "    # otherwise, get it so we can add labels\n",
        "    else:\n",
        "        ner = nlp.get_pipe(\"ner\")\n",
        "\n",
        "\n",
        "    # get names of other pipes to disable them during training\n",
        "    other_pipes = [pipe for pipe in nlp.pipe_names if pipe != \"ner\"]\n",
        "    with nlp.disable_pipes(*other_pipes):  # only train NER\n",
        "        # reset and initialize the weights randomly – but only if we're\n",
        "        # training a new model\n",
        "        if model is None:\n",
        "            nlp.begin_training()\n",
        "        for itn in range(n_iter):\n",
        "            random.shuffle(training_data)\n",
        "            losses = {}\n",
        "            # batch up the examples using spaCy's minibatch\n",
        "            batches = minibatch(training_data, size=compounding(4.0, 32.0, 1.001))\n",
        "\n",
        "        for batch in spacy.util.minibatch(training_data, size=2):\n",
        "          for text, annotations in batch:\n",
        "            # create Example\n",
        "            doc = nlp.make_doc(text)\n",
        "            example = Example.from_dict(doc, annotations)\n",
        "            # Update the model\n",
        "            nlp.update([example], losses=losses, drop=0.3)\n",
        "\n",
        "    # test the trained model\n",
        "    for text, _ in training_data:\n",
        "        doc = nlp(text)\n",
        "        print(\"Entities\", [(ent.text, ent.label_) for ent in doc.ents])\n",
        "        print(\"Tokens\", [(t.text, t.ent_type_, t.ent_iob) for t in doc])\n",
        "\n",
        "    # save model to output directory\n",
        "    if output_dir is not None:\n",
        "        output_dir = Path(output_dir)\n",
        "        if not output_dir.exists():\n",
        "            output_dir.mkdir()\n",
        "        nlp.to_disk(output_dir)\n",
        "        print(\"Saved model to\", output_dir)\n",
        "\n",
        "# Finally train the model by calling above function\n",
        "update_model()\n",
        "\n",
        "# Importing SpaCy and relevent packages\n",
        "import spacy\n",
        "from spacy import displacy\n",
        "\n",
        "# Loading NER\n",
        "NER = spacy.load(updated_model_dir)\n",
        "\n",
        "# Using chapter 3 as the text\n",
        "text = chapters[2]\n",
        "\n",
        "# Using NER on test\n",
        "test = NER(text)\n",
        "\n",
        "# Creating blank list for the entities\n",
        "fin =[]\n",
        "other = []\n",
        "# Looping the entities that are found and their label\n",
        "for ent in test.ents:\n",
        "\n",
        "  # Adding dublin, ireland to each text\n",
        "  address = ent\n",
        "  # Implementing truth statement to filter the entities we want\n",
        "  if ent.label_ == \"ORG\":\n",
        "    fin.append(address)\n",
        "  if ent.label_ == \"LOC\":\n",
        "    fin.append(address)\n",
        "  if ent.label_ == \"GPE\":\n",
        "    fin.append(address)\n",
        "  if ent.label_ == \"FAC\":\n",
        "    fin.append(address)\n",
        "  else:\n",
        "    other.append(address)\n",
        "\n",
        "# Checking if manually checked locationas are also found by NER\n",
        "found_ent=[]\n",
        "not_found_ent=[]\n",
        "for manual_string in chapter_3_list:\n",
        "  if manual_string not in str(fin):\n",
        "    not_found_ent.append(manual_string)\n",
        "  else:\n",
        "    found_ent.append(manual_string)\n",
        "\n",
        "# Checking if NER extracts more entities that are not locations\n",
        "false_found = []\n",
        "for ner_string in fin:\n",
        "  if str(ner_string) not in chapter_3_list:\n",
        "    false_found.append(ner_string)\n",
        "\n",
        "# Checking if NER filters out entities that are actually correct\n",
        "poss_error = []\n",
        "def_error = []\n",
        "for ner_string in other:\n",
        "  if str(ner_string) in chapter_3_list:\n",
        "    poss_error.append(ner_string)\n",
        "for ner_string in poss_error:\n",
        "  if ner_string not in fin:\n",
        "    def_error.append(ner_string)\n",
        "\n",
        "trf2_true_positive = len(found_ent)\n",
        "trf2_true_negative = len(other) - len(def_error)\n",
        "trf2_false_positive = len(false_found)\n",
        "trf2_false_negative = len(not_found_ent) + len(def_error)\n",
        "\n",
        "trf2_f1 = f1(precision(trf2_true_positive, trf2_false_positive),\n",
        "                   recall(trf2_true_positive, trf2_false_negative))\n",
        "trf2_r = recall(trf2_true_positive, trf2_false_negative)\n",
        "trf2_p = precision(trf2_true_positive, trf2_false_positive)\n",
        "trf2_a = accuracy(trf2_true_positive, trf2_true_negative, trf2_false_positive,\n",
        "                trf2_false_negative)\n",
        "print(\"Accuracy is \", trf2_a)\n",
        "print(\"Precision is \", precision(trf2_true_positive, trf2_false_positive))\n",
        "print(\"Recall is \", recall(trf2_true_positive, trf2_false_negative))\n",
        "print(\"F1 is \", f1(precision(trf2_true_positive, trf2_false_positive),\n",
        "                   recall(trf2_true_positive, trf2_false_negative)))\n",
        "'''"
      ],
      "metadata": {
        "id": "NIv6fkN8COEb",
        "colab": {
          "base_uri": "https://localhost:8080/",
          "height": 122
        },
        "outputId": "07db4fa5-32c2-4dbd-a391-4830dfed5d9a"
      },
      "execution_count": null,
      "outputs": [
        {
          "output_type": "execute_result",
          "data": {
            "text/plain": [
              "'\\nupdated_model_dir = \\'/content/drive/My Drive/Colab Notebooks/Diss/Training/trf\\'\\n\\n## Update existing spacy model and store into a folder\\ndef update_model(model=\\'en_core_web_trf\\', output_dir=updated_model_dir, n_iter=30):\\n    \"\"\"Load the model, set up the pipeline and train the entity recognizer.\"\"\"\\n    if model is not None:\\n        nlp = spacy.load(model)  # load existing spaCy model\\n        print(\"Loaded model \\'%s\\'\" % model)\\n    else:\\n        nlp = spacy.blank(\"en\")  # create blank Language class\\n        print(\"Created blank \\'en\\' model\")\\n\\n    # create the built-in pipeline components and add them to the pipeline\\n    # nlp.create_pipe works for built-ins that are registered with spaCy\\n    if \"ner\" not in nlp.pipe_names:\\n        ner = nlp.create_pipe(\"ner\")\\n        nlp.add_pipe(ner, last=True)\\n    # otherwise, get it so we can add labels\\n    else:\\n        ner = nlp.get_pipe(\"ner\")\\n\\n\\n    # get names of other pipes to disable them during training\\n    other_pipes = [pipe for pipe in nlp.pipe_names if pipe != \"ner\"]\\n    with nlp.disable_pipes(*other_pipes):  # only train NER\\n        # reset and initialize the weights randomly – but only if we\\'re\\n        # training a new model\\n        if model is None:\\n            nlp.begin_training()\\n        for itn in range(n_iter):\\n            random.shuffle(training_data)\\n            losses = {}\\n            # batch up the examples using spaCy\\'s minibatch\\n            batches = minibatch(training_data, size=compounding(4.0, 32.0, 1.001))\\n            \\n        for batch in spacy.util.minibatch(training_data, size=2):\\n          for text, annotations in batch:\\n            # create Example\\n            doc = nlp.make_doc(text)\\n            example = Example.from_dict(doc, annotations)\\n            # Update the model\\n            nlp.update([example], losses=losses, drop=0.3)\\n\\n    # test the trained model\\n    for text, _ in training_data:\\n        doc = nlp(text)\\n        print(\"Entities\", [(ent.text, ent.label_) for ent in doc.ents])\\n        print(\"Tokens\", [(t.text, t.ent_type_, t.ent_iob) for t in doc])\\n\\n    # save model to output directory\\n    if output_dir is not None:\\n        output_dir = Path(output_dir)\\n        if not output_dir.exists():\\n            output_dir.mkdir()\\n        nlp.to_disk(output_dir)\\n        print(\"Saved model to\", output_dir)\\n\\n# Finally train the model by calling above function        \\nupdate_model()\\n\\n# Importing SpaCy and relevent packages\\nimport spacy\\nfrom spacy import displacy\\n\\n# Loading NER\\nNER = spacy.load(updated_model_dir)\\n\\n# Using chapter 3 as the text\\ntext = chapters[2]\\n\\n# Using NER on test\\ntest = NER(text)\\n\\n# Creating blank list for the entities\\nfin =[]\\nother = []\\n# Looping the entities that are found and their label\\nfor ent in test.ents:\\n\\n  # Adding dublin, ireland to each text\\n  address = ent \\n  # Implementing truth statement to filter the entities we want\\n  if ent.label_ == \"ORG\":\\n    fin.append(address)\\n  if ent.label_ == \"LOC\":\\n    fin.append(address)\\n  if ent.label_ == \"GPE\":\\n    fin.append(address)\\n  if ent.label_ == \"FAC\":\\n    fin.append(address)\\n  else:\\n    other.append(address)\\n\\n# Checking if manually checked locationas are also found by NER\\nfound_ent=[]\\nnot_found_ent=[]\\nfor manual_string in chapter_3_list:\\n  if manual_string not in str(fin):\\n    not_found_ent.append(manual_string)\\n  else:\\n    found_ent.append(manual_string)\\n\\n# Checking if NER extracts more entities that are not locations\\nfalse_found = []\\nfor ner_string in fin:\\n  if str(ner_string) not in chapter_3_list:\\n    false_found.append(ner_string)\\n\\n# Checking if NER filters out entities that are actually correct\\nposs_error = []\\ndef_error = []\\nfor ner_string in other:\\n  if str(ner_string) in chapter_3_list:\\n    poss_error.append(ner_string)\\nfor ner_string in poss_error:\\n  if ner_string not in fin:\\n    def_error.append(ner_string)\\n\\ntrf2_true_positive = len(found_ent)\\ntrf2_true_negative = len(other) - len(def_error)\\ntrf2_false_positive = len(false_found)\\ntrf2_false_negative = len(not_found_ent) + len(def_error)\\n\\ntrf2_f1 = f1(precision(trf2_true_positive, trf2_false_positive), \\n                   recall(trf2_true_positive, trf2_false_negative))\\ntrf2_r = recall(trf2_true_positive, trf2_false_negative)\\ntrf2_p = precision(trf2_true_positive, trf2_false_positive)\\ntrf2_a = accuracy(trf2_true_positive, trf2_true_negative, trf2_false_positive, \\n                trf2_false_negative)\\nprint(\"Accuracy is \", trf2_a)\\nprint(\"Precision is \", precision(trf2_true_positive, trf2_false_positive))\\nprint(\"Recall is \", recall(trf2_true_positive, trf2_false_negative))\\nprint(\"F1 is \", f1(precision(trf2_true_positive, trf2_false_positive), \\n                   recall(trf2_true_positive, trf2_false_negative)))\\n'"
            ],
            "application/vnd.google.colaboratory.intrinsic+json": {
              "type": "string"
            }
          },
          "metadata": {},
          "execution_count": 53
        }
      ]
    },
    {
      "cell_type": "markdown",
      "source": [
        "# Summary of Training Models"
      ],
      "metadata": {
        "id": "EOaTpO8bDf56"
      }
    },
    {
      "cell_type": "code",
      "source": [
        "import matplotlib.pyplot as plt\n",
        "\n",
        "packages = ['sm', 'sm trained', 'md', 'md trained', 'lg', 'lg trained',\n",
        "            'trf']\n",
        "f1s = [ sm_f1, sm2_f1, md_f1, md2_f1, lg_f1, lg2_f1, trf_f1]\n",
        "recalls = [ sm_r, sm2_r, md_r, md2_r, lg_r, lg2_r, trf_r]\n",
        "precisions = [ sm_p, sm2_p, md_p, md2_p, lg_p, lg2_p, trf_p]\n",
        "accuracys = [ sm_a, sm2_a, md_a, md2_a, lg_a, lg2_a, trf_a]\n",
        "\n",
        "x_pos = [i for i, _ in enumerate(packages)]\n",
        "\n",
        "plt.figure(0)\n",
        "plt.bar(x_pos, accuracys, color='blue')\n",
        "plt.title(\"Accuracy Scores for Each Package\")\n",
        "plt.xlabel(\"Packages\")\n",
        "plt.ylabel(\"Score\")\n",
        "plt.xticks(x_pos, packages)\n",
        "\n",
        "plt.figure(1)\n",
        "plt.bar(x_pos, f1s, color='red')\n",
        "plt.title(\"F1 Scores for Each Package\")\n",
        "plt.xlabel(\"Packages\")\n",
        "plt.ylabel(\"Score\")\n",
        "plt.xticks(x_pos, packages)\n",
        "\n",
        "plt.figure(2)\n",
        "plt.bar(x_pos, recalls, color='orange')\n",
        "plt.title(\"Recall Scores for Each Package\")\n",
        "plt.xlabel(\"Packages\")\n",
        "plt.ylabel(\"Score\")\n",
        "plt.xticks(x_pos, packages)\n",
        "\n",
        "plt.figure(3)\n",
        "plt.bar(x_pos, precisions, color='purple')\n",
        "plt.title(\"Precision Scores for Each Package\")\n",
        "plt.xlabel(\"Packages\")\n",
        "plt.ylabel(\"Score\")\n",
        "plt.xticks(x_pos, packages)"
      ],
      "metadata": {
        "id": "uZQyieafDkjR",
        "colab": {
          "base_uri": "https://localhost:8080/",
          "height": 1000
        },
        "outputId": "f86f4d1b-305d-4e2b-803f-cb185aee7fda"
      },
      "execution_count": null,
      "outputs": [
        {
          "output_type": "execute_result",
          "data": {
            "text/plain": [
              "([<matplotlib.axis.XTick at 0x7faee45b0510>,\n",
              "  <matplotlib.axis.XTick at 0x7faee45b0450>,\n",
              "  <matplotlib.axis.XTick at 0x7faee45b0b90>,\n",
              "  <matplotlib.axis.XTick at 0x7faedd4cfa10>,\n",
              "  <matplotlib.axis.XTick at 0x7faee3a32210>,\n",
              "  <matplotlib.axis.XTick at 0x7faee62036d0>,\n",
              "  <matplotlib.axis.XTick at 0x7faed78cb910>],\n",
              " [Text(0, 0, 'sm'),\n",
              "  Text(0, 0, 'sm trained'),\n",
              "  Text(0, 0, 'md'),\n",
              "  Text(0, 0, 'md trained'),\n",
              "  Text(0, 0, 'lg'),\n",
              "  Text(0, 0, 'lg trained'),\n",
              "  Text(0, 0, 'trf')])"
            ]
          },
          "metadata": {},
          "execution_count": 57
        },
        {
          "output_type": "display_data",
          "data": {
            "text/plain": [
              "<Figure size 432x288 with 1 Axes>"
            ],
            "image/png": "[encoded data removed]"
          },
          "metadata": {
            "needs_background": "light"
          }
        },
        {
          "output_type": "display_data",
          "data": {
            "text/plain": [
              "<Figure size 432x288 with 1 Axes>"
            ],
            "image/png": "[encoded data removed]"
          },
          "metadata": {
            "needs_background": "light"
          }
        },
        {
          "output_type": "display_data",
          "data": {
            "text/plain": [
              "<Figure size 432x288 with 1 Axes>"
            ],
            "image/png": "[encoded data removed]"
          },
          "metadata": {
            "needs_background": "light"
          }
        },
        {
          "output_type": "display_data",
          "data": {
            "text/plain": [
              "<Figure size 432x288 with 1 Axes>"
            ],
            "image/png": "[encoded data removed]"
          },
          "metadata": {
            "needs_background": "light"
          }
        }
      ]
    }
  ]
}